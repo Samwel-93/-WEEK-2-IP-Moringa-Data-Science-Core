{
  "nbformat": 4,
  "nbformat_minor": 0,
  "metadata": {
    "colab": {
      "name": "Moringa_Data_Science_Core_W2_Independent_Project_2022_04_Samwel_Omondi_Python_Notebook",
      "provenance": [],
      "collapsed_sections": [
        "t7KP-bViGMHz",
        "g3IqeF0uaOiY",
        "8_lgygTXanjk",
        "2ILoCiEIdXp9",
        "wyImNvmKGdKR",
        "yBKiVkooGkBG",
        "a-C9qVi2Gppj",
        "gunmlXYb6-Fh",
        "oVObgBF24XRc",
        "uEmBjz_HF2O6",
        "vpPgpDkUGG0M",
        "GegLALlWPdUp",
        "Ywegq3-3GtBc",
        "h-w4ukVg04FT",
        "iXqrhzv31LSy",
        "ElEFiFC50AD-"
      ],
      "toc_visible": true,
      "authorship_tag": "ABX9TyPdWkziLwwDpC4/ZlKi1LWk",
      "include_colab_link": true
    },
    "kernelspec": {
      "name": "python3",
      "display_name": "Python 3"
    },
    "language_info": {
      "name": "python"
    }
  },
  "cells": [
    {
      "cell_type": "markdown",
      "metadata": {
        "id": "view-in-github",
        "colab_type": "text"
      },
      "source": [
        "<a href=\"https://colab.research.google.com/github/Samwel-93/-WEEK-2-IP-Moringa-Data-Science-Core/blob/main/Moringa_Data_Science_Core_W2_Independent_Project_2022_04_Samwel_Omondi_Python_Notebook.ipynb\" target=\"_parent\"><img src=\"https://colab.research.google.com/assets/colab-badge.svg\" alt=\"Open In Colab\"/></a>"
      ]
    },
    {
      "cell_type": "markdown",
      "source": [
        "# **Data Analysis on Financial Inclusion in Kenya, Uganda, Tanzania & Rwanda**\n",
        "\n"
      ],
      "metadata": {
        "id": "qPRTAt4sv20S"
      }
    },
    {
      "cell_type": "markdown",
      "source": [
        "# **Overview**\n",
        "\n",
        "Financial Inclusion remains one of the main obstacles to economic and human development in Africa. For example, across Kenya, Rwanda, Tanzania, and Uganda *only 9.1 million adults* (or 13.9% of the adult population) have access to or use a commercial bank account.\n",
        "\n",
        "Traditionally, access to bank accounts has been regarded as an indicator of financial inclusion. Despite the proliferation of mobile money in Africa and the growth of innovative fintech solutions, banks still play a pivotal role in facilitating access to financial services. Access to bank accounts enables households to save and facilitate payments while also helping businesses build up their credit-worthiness and improve their access to other financial services. Therefore, access to bank accounts is an essential contributor to long-term economic growth.\n",
        "\n",
        "The ***research problem*** is to figure out how we can predict which individuals are most likely to have or use a bank account. \n",
        "\n",
        "Your solution will help provide an indication of the state of financial inclusion in Kenya, Rwanda, Tanzania, and Uganda, while providing insights into some of the key demographic factors that might drive individuals’ financial outcomes.\n",
        "\n",
        "In order to work on the above problem, we need to do the following:\n",
        "\n",
        "1. Define the question, the metric for success, the context, experimental design taken and the appropriateness of the available data to answer the given question\n",
        "2. Find and deal with outliers, anomalies, and missing data within the dataset.\n",
        "3. Perform univariate, bivariate and multivariate analysis recording your observations.\n",
        "4. Implement the solution by performing the respective analysis i.e. factor analysis, principal component analysis, and discriminant analysis.\n",
        "5. Challenge your solution by providing insights on how you can make improvements.\n",
        "\n",
        "\n"
      ],
      "metadata": {
        "id": "ZCY-TsdY-9H-"
      }
    },
    {
      "cell_type": "markdown",
      "source": [
        "##1.0 Defining the Question"
      ],
      "metadata": {
        "id": "TFfZ1L6eBCLj"
      }
    },
    {
      "cell_type": "markdown",
      "source": [
        "### a) Specifying the Data Analytic Question"
      ],
      "metadata": {
        "id": "WBrTRdVyBkIQ"
      }
    },
    {
      "cell_type": "markdown",
      "source": [
        "> How can we predict the individuals who are most likely to have or use bank accounts in Kenya, Uganda, Tanzania and Rwanda? "
      ],
      "metadata": {
        "id": "AsdOqQxhBnns"
      }
    },
    {
      "cell_type": "markdown",
      "source": [
        "###b) Defining the Metric for Success"
      ],
      "metadata": {
        "id": "8PA1kb8SB7So"
      }
    },
    {
      "cell_type": "markdown",
      "source": [
        "> 1. Explore the individuals with bank accounts and are likely to use them per state.  \n",
        "> 2. Identify key demographic factors that might drive individuals’ financial outcomes e.g. does sex ratio influence financial inclusion?\n",
        "\n"
      ],
      "metadata": {
        "id": "YvPcBHFyC-Sz"
      }
    },
    {
      "cell_type": "markdown",
      "source": [
        "###c) Understanding the context"
      ],
      "metadata": {
        "id": "QO0JZ10kCFNW"
      }
    },
    {
      "cell_type": "markdown",
      "source": [
        "> Traditionally, access to bank accounts has been regarded as an indicator of financial inclusion. Despite the proliferation of mobile money in Africa and the growth of innovative fintech solutions, banks still play a pivotal role in facilitating access to financial services. Access to bank accounts enables households to save and facilitate payments while also helping businesses build up their credit-worthiness and improve their access to other financial services. Therefore, access to bank accounts is an essential contributor to long-term economic growth.\n",
        "\n",
        "> Financial Inclusion remains one of the main obstacles to economic and human development in Africa. For example, across Kenya, Rwanda, Tanzania, and Uganda only 9.1 million adults (or 13.9% of the adult population) have access to or use a commercial bank account.\n",
        "\n",
        "> Your solution will help provide an indication of the state of financial inclusion in Kenya, Rwanda, Tanzania, and Uganda, while providing insights into some of the key demographic factors that might drive individuals’ financial outcomes."
      ],
      "metadata": {
        "id": "EkgFj2RuERo5"
      }
    },
    {
      "cell_type": "markdown",
      "source": [
        "###d) Recording the Experimental Design"
      ],
      "metadata": {
        "id": "Ve3mLapNCHyB"
      }
    },
    {
      "cell_type": "markdown",
      "source": [
        "The design of our research will follow the below gronology:\n",
        "\n",
        "1. Defining and understanding the reasearch problem\n",
        "2. Reading our data by importing the required libraries\n",
        "2. Checking the data (Checking data types, shape, displaying data.\n",
        "3. Checking external validation sources\n",
        "4. Data preparation and cleaning (checking anormalities, outliers, missing data, data cleaning)\n",
        "5. Exploratory data analysis and models (Univariate, Bivariate, Multivariate)\n",
        "6. Drawing recommendations.\n",
        "7. Follow-up questions"
      ],
      "metadata": {
        "id": "jrS0Z1KvFfPx"
      }
    },
    {
      "cell_type": "markdown",
      "source": [
        "###e) Data Relevance\n",
        "\n",
        "Dataset is clearly defined and the problem statement is precise. The dataset that we shall use in this analysis contains 13 columns and over 23,000 rows. \n",
        "The main dataset contains demographic information and what financial services i.e banking are used by individuals across East Africa."
      ],
      "metadata": {
        "id": "uXGE8w2ICQow"
      }
    },
    {
      "cell_type": "markdown",
      "source": [
        "## 2.0 Reading the Data"
      ],
      "metadata": {
        "id": "t7KP-bViGMHz"
      }
    },
    {
      "cell_type": "markdown",
      "source": [
        "###2.1 Importing Libraries"
      ],
      "metadata": {
        "id": "g3IqeF0uaOiY"
      }
    },
    {
      "cell_type": "code",
      "source": [
        "# Import pandas\n",
        "import pandas as pd\n",
        "\n",
        "# Import Numpy\n",
        "import numpy as np\n",
        "\n",
        "#Impoer Seaborn\n",
        "import seaborn as sns\n",
        "\n",
        "#Import Matplotlib\n",
        "import matplotlib.pyplot as plt"
      ],
      "metadata": {
        "id": "unfjHZq9Z50u"
      },
      "execution_count": 1,
      "outputs": []
    },
    {
      "cell_type": "markdown",
      "source": [
        "###2.2 Load Data"
      ],
      "metadata": {
        "id": "8_lgygTXanjk"
      }
    },
    {
      "cell_type": "code",
      "source": [
        "# We are provided with a dataset that contains demographic information \n",
        "#and what financial services are used by individuals across East Africa.\n",
        "#\n",
        "Dataset_URL = 'http://bit.ly/FinancialDataset'\n",
        "#\n",
        "# Loading our dataset\n",
        "#\n",
        "FinAccess_df = pd.read_csv(Dataset_URL)"
      ],
      "metadata": {
        "id": "Sf3GoP2XdUek"
      },
      "execution_count": 2,
      "outputs": []
    },
    {
      "cell_type": "markdown",
      "source": [
        "###2.3 Preview Data"
      ],
      "metadata": {
        "id": "2ILoCiEIdXp9"
      }
    },
    {
      "cell_type": "code",
      "source": [
        "#View last 10 elements of our data table\n",
        "#\n",
        "FinAccess_df.head(10)"
      ],
      "metadata": {
        "colab": {
          "base_uri": "https://localhost:8080/",
          "height": 0
        },
        "id": "pakJ6Behaxor",
        "outputId": "7a13ba47-92ec-4622-d19c-dc51e1e8a8e6"
      },
      "execution_count": 3,
      "outputs": [
        {
          "output_type": "execute_result",
          "data": {
            "text/plain": [
              "  country  year     uniqueid Has a Bank account Type of Location  \\\n",
              "0   Kenya  2018   uniqueid_1                Yes            Rural   \n",
              "1   Kenya  2018   uniqueid_2                 No            Rural   \n",
              "2   Kenya  2018   uniqueid_3                Yes            Urban   \n",
              "3   Kenya  2018   uniqueid_4                 No            Rural   \n",
              "4   Kenya  2018   uniqueid_5                 No            Urban   \n",
              "5   Kenya  2018   uniqueid_6                 No            Rural   \n",
              "6   Kenya  2018   uniqueid_7                 No            Rural   \n",
              "7   Kenya  2018   uniqueid_8                 No            Rural   \n",
              "8   Kenya  2018   uniqueid_9                Yes            Rural   \n",
              "9   Kenya  2018  uniqueid_10                 No            Urban   \n",
              "\n",
              "  Cell Phone Access  household_size  Respondent Age gender_of_respondent  \\\n",
              "0               Yes             3.0            24.0               Female   \n",
              "1                No             5.0            70.0               Female   \n",
              "2               Yes             5.0            26.0                 Male   \n",
              "3               Yes             5.0            34.0               Female   \n",
              "4                No             8.0            26.0                 Male   \n",
              "5                No             7.0            26.0               Female   \n",
              "6               Yes             7.0            32.0               Female   \n",
              "7               Yes             1.0            42.0               Female   \n",
              "8               Yes             3.0            54.0                 Male   \n",
              "9               Yes             3.0            76.0               Female   \n",
              "\n",
              "  The relathip with head           marital_status  \\\n",
              "0                 Spouse  Married/Living together   \n",
              "1      Head of Household                  Widowed   \n",
              "2         Other relative     Single/Never Married   \n",
              "3      Head of Household  Married/Living together   \n",
              "4                  Child     Single/Never Married   \n",
              "5                 Spouse  Married/Living together   \n",
              "6                 Spouse  Married/Living together   \n",
              "7      Head of Household  Married/Living together   \n",
              "8      Head of Household  Married/Living together   \n",
              "9      Head of Household       Divorced/Seperated   \n",
              "\n",
              "               Level of Educuation                   Type of Job  \n",
              "0              Secondary education                 Self employed  \n",
              "1              No formal education          Government Dependent  \n",
              "2  Vocational/Specialised training                 Self employed  \n",
              "3                Primary education     Formally employed Private  \n",
              "4                Primary education           Informally employed  \n",
              "5                Primary education           Informally employed  \n",
              "6                Primary education                 Self employed  \n",
              "7               Tertiary education  Formally employed Government  \n",
              "8              Secondary education           Farming and Fishing  \n",
              "9              No formal education          Remittance Dependent  "
            ],
            "text/html": [
              "\n",
              "  <div id=\"df-d9001026-f7f9-48fb-8e71-e654edbc8b01\">\n",
              "    <div class=\"colab-df-container\">\n",
              "      <div>\n",
              "<style scoped>\n",
              "    .dataframe tbody tr th:only-of-type {\n",
              "        vertical-align: middle;\n",
              "    }\n",
              "\n",
              "    .dataframe tbody tr th {\n",
              "        vertical-align: top;\n",
              "    }\n",
              "\n",
              "    .dataframe thead th {\n",
              "        text-align: right;\n",
              "    }\n",
              "</style>\n",
              "<table border=\"1\" class=\"dataframe\">\n",
              "  <thead>\n",
              "    <tr style=\"text-align: right;\">\n",
              "      <th></th>\n",
              "      <th>country</th>\n",
              "      <th>year</th>\n",
              "      <th>uniqueid</th>\n",
              "      <th>Has a Bank account</th>\n",
              "      <th>Type of Location</th>\n",
              "      <th>Cell Phone Access</th>\n",
              "      <th>household_size</th>\n",
              "      <th>Respondent Age</th>\n",
              "      <th>gender_of_respondent</th>\n",
              "      <th>The relathip with head</th>\n",
              "      <th>marital_status</th>\n",
              "      <th>Level of Educuation</th>\n",
              "      <th>Type of Job</th>\n",
              "    </tr>\n",
              "  </thead>\n",
              "  <tbody>\n",
              "    <tr>\n",
              "      <th>0</th>\n",
              "      <td>Kenya</td>\n",
              "      <td>2018</td>\n",
              "      <td>uniqueid_1</td>\n",
              "      <td>Yes</td>\n",
              "      <td>Rural</td>\n",
              "      <td>Yes</td>\n",
              "      <td>3.0</td>\n",
              "      <td>24.0</td>\n",
              "      <td>Female</td>\n",
              "      <td>Spouse</td>\n",
              "      <td>Married/Living together</td>\n",
              "      <td>Secondary education</td>\n",
              "      <td>Self employed</td>\n",
              "    </tr>\n",
              "    <tr>\n",
              "      <th>1</th>\n",
              "      <td>Kenya</td>\n",
              "      <td>2018</td>\n",
              "      <td>uniqueid_2</td>\n",
              "      <td>No</td>\n",
              "      <td>Rural</td>\n",
              "      <td>No</td>\n",
              "      <td>5.0</td>\n",
              "      <td>70.0</td>\n",
              "      <td>Female</td>\n",
              "      <td>Head of Household</td>\n",
              "      <td>Widowed</td>\n",
              "      <td>No formal education</td>\n",
              "      <td>Government Dependent</td>\n",
              "    </tr>\n",
              "    <tr>\n",
              "      <th>2</th>\n",
              "      <td>Kenya</td>\n",
              "      <td>2018</td>\n",
              "      <td>uniqueid_3</td>\n",
              "      <td>Yes</td>\n",
              "      <td>Urban</td>\n",
              "      <td>Yes</td>\n",
              "      <td>5.0</td>\n",
              "      <td>26.0</td>\n",
              "      <td>Male</td>\n",
              "      <td>Other relative</td>\n",
              "      <td>Single/Never Married</td>\n",
              "      <td>Vocational/Specialised training</td>\n",
              "      <td>Self employed</td>\n",
              "    </tr>\n",
              "    <tr>\n",
              "      <th>3</th>\n",
              "      <td>Kenya</td>\n",
              "      <td>2018</td>\n",
              "      <td>uniqueid_4</td>\n",
              "      <td>No</td>\n",
              "      <td>Rural</td>\n",
              "      <td>Yes</td>\n",
              "      <td>5.0</td>\n",
              "      <td>34.0</td>\n",
              "      <td>Female</td>\n",
              "      <td>Head of Household</td>\n",
              "      <td>Married/Living together</td>\n",
              "      <td>Primary education</td>\n",
              "      <td>Formally employed Private</td>\n",
              "    </tr>\n",
              "    <tr>\n",
              "      <th>4</th>\n",
              "      <td>Kenya</td>\n",
              "      <td>2018</td>\n",
              "      <td>uniqueid_5</td>\n",
              "      <td>No</td>\n",
              "      <td>Urban</td>\n",
              "      <td>No</td>\n",
              "      <td>8.0</td>\n",
              "      <td>26.0</td>\n",
              "      <td>Male</td>\n",
              "      <td>Child</td>\n",
              "      <td>Single/Never Married</td>\n",
              "      <td>Primary education</td>\n",
              "      <td>Informally employed</td>\n",
              "    </tr>\n",
              "    <tr>\n",
              "      <th>5</th>\n",
              "      <td>Kenya</td>\n",
              "      <td>2018</td>\n",
              "      <td>uniqueid_6</td>\n",
              "      <td>No</td>\n",
              "      <td>Rural</td>\n",
              "      <td>No</td>\n",
              "      <td>7.0</td>\n",
              "      <td>26.0</td>\n",
              "      <td>Female</td>\n",
              "      <td>Spouse</td>\n",
              "      <td>Married/Living together</td>\n",
              "      <td>Primary education</td>\n",
              "      <td>Informally employed</td>\n",
              "    </tr>\n",
              "    <tr>\n",
              "      <th>6</th>\n",
              "      <td>Kenya</td>\n",
              "      <td>2018</td>\n",
              "      <td>uniqueid_7</td>\n",
              "      <td>No</td>\n",
              "      <td>Rural</td>\n",
              "      <td>Yes</td>\n",
              "      <td>7.0</td>\n",
              "      <td>32.0</td>\n",
              "      <td>Female</td>\n",
              "      <td>Spouse</td>\n",
              "      <td>Married/Living together</td>\n",
              "      <td>Primary education</td>\n",
              "      <td>Self employed</td>\n",
              "    </tr>\n",
              "    <tr>\n",
              "      <th>7</th>\n",
              "      <td>Kenya</td>\n",
              "      <td>2018</td>\n",
              "      <td>uniqueid_8</td>\n",
              "      <td>No</td>\n",
              "      <td>Rural</td>\n",
              "      <td>Yes</td>\n",
              "      <td>1.0</td>\n",
              "      <td>42.0</td>\n",
              "      <td>Female</td>\n",
              "      <td>Head of Household</td>\n",
              "      <td>Married/Living together</td>\n",
              "      <td>Tertiary education</td>\n",
              "      <td>Formally employed Government</td>\n",
              "    </tr>\n",
              "    <tr>\n",
              "      <th>8</th>\n",
              "      <td>Kenya</td>\n",
              "      <td>2018</td>\n",
              "      <td>uniqueid_9</td>\n",
              "      <td>Yes</td>\n",
              "      <td>Rural</td>\n",
              "      <td>Yes</td>\n",
              "      <td>3.0</td>\n",
              "      <td>54.0</td>\n",
              "      <td>Male</td>\n",
              "      <td>Head of Household</td>\n",
              "      <td>Married/Living together</td>\n",
              "      <td>Secondary education</td>\n",
              "      <td>Farming and Fishing</td>\n",
              "    </tr>\n",
              "    <tr>\n",
              "      <th>9</th>\n",
              "      <td>Kenya</td>\n",
              "      <td>2018</td>\n",
              "      <td>uniqueid_10</td>\n",
              "      <td>No</td>\n",
              "      <td>Urban</td>\n",
              "      <td>Yes</td>\n",
              "      <td>3.0</td>\n",
              "      <td>76.0</td>\n",
              "      <td>Female</td>\n",
              "      <td>Head of Household</td>\n",
              "      <td>Divorced/Seperated</td>\n",
              "      <td>No formal education</td>\n",
              "      <td>Remittance Dependent</td>\n",
              "    </tr>\n",
              "  </tbody>\n",
              "</table>\n",
              "</div>\n",
              "      <button class=\"colab-df-convert\" onclick=\"convertToInteractive('df-d9001026-f7f9-48fb-8e71-e654edbc8b01')\"\n",
              "              title=\"Convert this dataframe to an interactive table.\"\n",
              "              style=\"display:none;\">\n",
              "        \n",
              "  <svg xmlns=\"http://www.w3.org/2000/svg\" height=\"24px\"viewBox=\"0 0 24 24\"\n",
              "       width=\"24px\">\n",
              "    <path d=\"M0 0h24v24H0V0z\" fill=\"none\"/>\n",
              "    <path d=\"M18.56 5.44l.94 2.06.94-2.06 2.06-.94-2.06-.94-.94-2.06-.94 2.06-2.06.94zm-11 1L8.5 8.5l.94-2.06 2.06-.94-2.06-.94L8.5 2.5l-.94 2.06-2.06.94zm10 10l.94 2.06.94-2.06 2.06-.94-2.06-.94-.94-2.06-.94 2.06-2.06.94z\"/><path d=\"M17.41 7.96l-1.37-1.37c-.4-.4-.92-.59-1.43-.59-.52 0-1.04.2-1.43.59L10.3 9.45l-7.72 7.72c-.78.78-.78 2.05 0 2.83L4 21.41c.39.39.9.59 1.41.59.51 0 1.02-.2 1.41-.59l7.78-7.78 2.81-2.81c.8-.78.8-2.07 0-2.86zM5.41 20L4 18.59l7.72-7.72 1.47 1.35L5.41 20z\"/>\n",
              "  </svg>\n",
              "      </button>\n",
              "      \n",
              "  <style>\n",
              "    .colab-df-container {\n",
              "      display:flex;\n",
              "      flex-wrap:wrap;\n",
              "      gap: 12px;\n",
              "    }\n",
              "\n",
              "    .colab-df-convert {\n",
              "      background-color: #E8F0FE;\n",
              "      border: none;\n",
              "      border-radius: 50%;\n",
              "      cursor: pointer;\n",
              "      display: none;\n",
              "      fill: #1967D2;\n",
              "      height: 32px;\n",
              "      padding: 0 0 0 0;\n",
              "      width: 32px;\n",
              "    }\n",
              "\n",
              "    .colab-df-convert:hover {\n",
              "      background-color: #E2EBFA;\n",
              "      box-shadow: 0px 1px 2px rgba(60, 64, 67, 0.3), 0px 1px 3px 1px rgba(60, 64, 67, 0.15);\n",
              "      fill: #174EA6;\n",
              "    }\n",
              "\n",
              "    [theme=dark] .colab-df-convert {\n",
              "      background-color: #3B4455;\n",
              "      fill: #D2E3FC;\n",
              "    }\n",
              "\n",
              "    [theme=dark] .colab-df-convert:hover {\n",
              "      background-color: #434B5C;\n",
              "      box-shadow: 0px 1px 3px 1px rgba(0, 0, 0, 0.15);\n",
              "      filter: drop-shadow(0px 1px 2px rgba(0, 0, 0, 0.3));\n",
              "      fill: #FFFFFF;\n",
              "    }\n",
              "  </style>\n",
              "\n",
              "      <script>\n",
              "        const buttonEl =\n",
              "          document.querySelector('#df-d9001026-f7f9-48fb-8e71-e654edbc8b01 button.colab-df-convert');\n",
              "        buttonEl.style.display =\n",
              "          google.colab.kernel.accessAllowed ? 'block' : 'none';\n",
              "\n",
              "        async function convertToInteractive(key) {\n",
              "          const element = document.querySelector('#df-d9001026-f7f9-48fb-8e71-e654edbc8b01');\n",
              "          const dataTable =\n",
              "            await google.colab.kernel.invokeFunction('convertToInteractive',\n",
              "                                                     [key], {});\n",
              "          if (!dataTable) return;\n",
              "\n",
              "          const docLinkHtml = 'Like what you see? Visit the ' +\n",
              "            '<a target=\"_blank\" href=https://colab.research.google.com/notebooks/data_table.ipynb>data table notebook</a>'\n",
              "            + ' to learn more about interactive tables.';\n",
              "          element.innerHTML = '';\n",
              "          dataTable['output_type'] = 'display_data';\n",
              "          await google.colab.output.renderOutput(dataTable, element);\n",
              "          const docLink = document.createElement('div');\n",
              "          docLink.innerHTML = docLinkHtml;\n",
              "          element.appendChild(docLink);\n",
              "        }\n",
              "      </script>\n",
              "    </div>\n",
              "  </div>\n",
              "  "
            ]
          },
          "metadata": {},
          "execution_count": 3
        }
      ]
    },
    {
      "cell_type": "code",
      "source": [
        "#View last 10 elements of our data table\n",
        "#\n",
        "FinAccess_df.tail(10)"
      ],
      "metadata": {
        "colab": {
          "base_uri": "https://localhost:8080/",
          "height": 0
        },
        "id": "XmEkMi15ctaR",
        "outputId": "79abd1b3-2d36-4fa0-c603-f746026a4268"
      },
      "execution_count": 4,
      "outputs": [
        {
          "output_type": "execute_result",
          "data": {
            "text/plain": [
              "      country  year       uniqueid Has a Bank account Type of Location  \\\n",
              "23514  Uganda  2018  uniqueid_2107                 No            Urban   \n",
              "23515  Uganda  2018  uniqueid_2108                 No            Rural   \n",
              "23516  Uganda  2018  uniqueid_2109                 No            Urban   \n",
              "23517  Uganda  2018  uniqueid_2110                 No            Urban   \n",
              "23518  Uganda  2018  uniqueid_2111                 No            Rural   \n",
              "23519  Uganda  2018  uniqueid_2113                 No            Rural   \n",
              "23520  Uganda  2018  uniqueid_2114                 No            Rural   \n",
              "23521  Uganda  2018  uniqueid_2115                 No            Rural   \n",
              "23522  Uganda  2018  uniqueid_2116                 No            Urban   \n",
              "23523  Uganda  2018  uniqueid_2117                 No            Rural   \n",
              "\n",
              "      Cell Phone Access  household_size  Respondent Age gender_of_respondent  \\\n",
              "23514               Yes             NaN            24.0               Female   \n",
              "23515                No             NaN            16.0                 Male   \n",
              "23516               Yes             NaN            35.0                 Male   \n",
              "23517               Yes             NaN            16.0                 Male   \n",
              "23518               Yes             NaN            20.0               Female   \n",
              "23519               Yes             4.0            48.0               Female   \n",
              "23520               Yes             2.0            27.0               Female   \n",
              "23521               Yes             5.0            27.0               Female   \n",
              "23522               Yes             7.0            30.0               Female   \n",
              "23523               Yes            10.0            20.0                 Male   \n",
              "\n",
              "      The relathip with head           marital_status  Level of Educuation  \\\n",
              "23514                 Spouse  Married/Living together    Primary education   \n",
              "23515                 Parent     Single/Never Married    Primary education   \n",
              "23516      Head of Household  Married/Living together    Primary education   \n",
              "23517                 Parent     Single/Never Married    Primary education   \n",
              "23518                  Child     Single/Never Married    Primary education   \n",
              "23519      Head of Household       Divorced/Seperated  No formal education   \n",
              "23520      Head of Household     Single/Never Married  Secondary education   \n",
              "23521                 Parent                  Widowed    Primary education   \n",
              "23522                 Parent       Divorced/Seperated  Secondary education   \n",
              "23523                  Child     Single/Never Married  Secondary education   \n",
              "\n",
              "         Type of Job  \n",
              "23514  Self employed  \n",
              "23515   Other Income  \n",
              "23516  Self employed  \n",
              "23517   Other Income  \n",
              "23518      No Income  \n",
              "23519   Other Income  \n",
              "23520   Other Income  \n",
              "23521   Other Income  \n",
              "23522  Self employed  \n",
              "23523      No Income  "
            ],
            "text/html": [
              "\n",
              "  <div id=\"df-2701adf2-4903-492a-b9ca-af5979e97b5d\">\n",
              "    <div class=\"colab-df-container\">\n",
              "      <div>\n",
              "<style scoped>\n",
              "    .dataframe tbody tr th:only-of-type {\n",
              "        vertical-align: middle;\n",
              "    }\n",
              "\n",
              "    .dataframe tbody tr th {\n",
              "        vertical-align: top;\n",
              "    }\n",
              "\n",
              "    .dataframe thead th {\n",
              "        text-align: right;\n",
              "    }\n",
              "</style>\n",
              "<table border=\"1\" class=\"dataframe\">\n",
              "  <thead>\n",
              "    <tr style=\"text-align: right;\">\n",
              "      <th></th>\n",
              "      <th>country</th>\n",
              "      <th>year</th>\n",
              "      <th>uniqueid</th>\n",
              "      <th>Has a Bank account</th>\n",
              "      <th>Type of Location</th>\n",
              "      <th>Cell Phone Access</th>\n",
              "      <th>household_size</th>\n",
              "      <th>Respondent Age</th>\n",
              "      <th>gender_of_respondent</th>\n",
              "      <th>The relathip with head</th>\n",
              "      <th>marital_status</th>\n",
              "      <th>Level of Educuation</th>\n",
              "      <th>Type of Job</th>\n",
              "    </tr>\n",
              "  </thead>\n",
              "  <tbody>\n",
              "    <tr>\n",
              "      <th>23514</th>\n",
              "      <td>Uganda</td>\n",
              "      <td>2018</td>\n",
              "      <td>uniqueid_2107</td>\n",
              "      <td>No</td>\n",
              "      <td>Urban</td>\n",
              "      <td>Yes</td>\n",
              "      <td>NaN</td>\n",
              "      <td>24.0</td>\n",
              "      <td>Female</td>\n",
              "      <td>Spouse</td>\n",
              "      <td>Married/Living together</td>\n",
              "      <td>Primary education</td>\n",
              "      <td>Self employed</td>\n",
              "    </tr>\n",
              "    <tr>\n",
              "      <th>23515</th>\n",
              "      <td>Uganda</td>\n",
              "      <td>2018</td>\n",
              "      <td>uniqueid_2108</td>\n",
              "      <td>No</td>\n",
              "      <td>Rural</td>\n",
              "      <td>No</td>\n",
              "      <td>NaN</td>\n",
              "      <td>16.0</td>\n",
              "      <td>Male</td>\n",
              "      <td>Parent</td>\n",
              "      <td>Single/Never Married</td>\n",
              "      <td>Primary education</td>\n",
              "      <td>Other Income</td>\n",
              "    </tr>\n",
              "    <tr>\n",
              "      <th>23516</th>\n",
              "      <td>Uganda</td>\n",
              "      <td>2018</td>\n",
              "      <td>uniqueid_2109</td>\n",
              "      <td>No</td>\n",
              "      <td>Urban</td>\n",
              "      <td>Yes</td>\n",
              "      <td>NaN</td>\n",
              "      <td>35.0</td>\n",
              "      <td>Male</td>\n",
              "      <td>Head of Household</td>\n",
              "      <td>Married/Living together</td>\n",
              "      <td>Primary education</td>\n",
              "      <td>Self employed</td>\n",
              "    </tr>\n",
              "    <tr>\n",
              "      <th>23517</th>\n",
              "      <td>Uganda</td>\n",
              "      <td>2018</td>\n",
              "      <td>uniqueid_2110</td>\n",
              "      <td>No</td>\n",
              "      <td>Urban</td>\n",
              "      <td>Yes</td>\n",
              "      <td>NaN</td>\n",
              "      <td>16.0</td>\n",
              "      <td>Male</td>\n",
              "      <td>Parent</td>\n",
              "      <td>Single/Never Married</td>\n",
              "      <td>Primary education</td>\n",
              "      <td>Other Income</td>\n",
              "    </tr>\n",
              "    <tr>\n",
              "      <th>23518</th>\n",
              "      <td>Uganda</td>\n",
              "      <td>2018</td>\n",
              "      <td>uniqueid_2111</td>\n",
              "      <td>No</td>\n",
              "      <td>Rural</td>\n",
              "      <td>Yes</td>\n",
              "      <td>NaN</td>\n",
              "      <td>20.0</td>\n",
              "      <td>Female</td>\n",
              "      <td>Child</td>\n",
              "      <td>Single/Never Married</td>\n",
              "      <td>Primary education</td>\n",
              "      <td>No Income</td>\n",
              "    </tr>\n",
              "    <tr>\n",
              "      <th>23519</th>\n",
              "      <td>Uganda</td>\n",
              "      <td>2018</td>\n",
              "      <td>uniqueid_2113</td>\n",
              "      <td>No</td>\n",
              "      <td>Rural</td>\n",
              "      <td>Yes</td>\n",
              "      <td>4.0</td>\n",
              "      <td>48.0</td>\n",
              "      <td>Female</td>\n",
              "      <td>Head of Household</td>\n",
              "      <td>Divorced/Seperated</td>\n",
              "      <td>No formal education</td>\n",
              "      <td>Other Income</td>\n",
              "    </tr>\n",
              "    <tr>\n",
              "      <th>23520</th>\n",
              "      <td>Uganda</td>\n",
              "      <td>2018</td>\n",
              "      <td>uniqueid_2114</td>\n",
              "      <td>No</td>\n",
              "      <td>Rural</td>\n",
              "      <td>Yes</td>\n",
              "      <td>2.0</td>\n",
              "      <td>27.0</td>\n",
              "      <td>Female</td>\n",
              "      <td>Head of Household</td>\n",
              "      <td>Single/Never Married</td>\n",
              "      <td>Secondary education</td>\n",
              "      <td>Other Income</td>\n",
              "    </tr>\n",
              "    <tr>\n",
              "      <th>23521</th>\n",
              "      <td>Uganda</td>\n",
              "      <td>2018</td>\n",
              "      <td>uniqueid_2115</td>\n",
              "      <td>No</td>\n",
              "      <td>Rural</td>\n",
              "      <td>Yes</td>\n",
              "      <td>5.0</td>\n",
              "      <td>27.0</td>\n",
              "      <td>Female</td>\n",
              "      <td>Parent</td>\n",
              "      <td>Widowed</td>\n",
              "      <td>Primary education</td>\n",
              "      <td>Other Income</td>\n",
              "    </tr>\n",
              "    <tr>\n",
              "      <th>23522</th>\n",
              "      <td>Uganda</td>\n",
              "      <td>2018</td>\n",
              "      <td>uniqueid_2116</td>\n",
              "      <td>No</td>\n",
              "      <td>Urban</td>\n",
              "      <td>Yes</td>\n",
              "      <td>7.0</td>\n",
              "      <td>30.0</td>\n",
              "      <td>Female</td>\n",
              "      <td>Parent</td>\n",
              "      <td>Divorced/Seperated</td>\n",
              "      <td>Secondary education</td>\n",
              "      <td>Self employed</td>\n",
              "    </tr>\n",
              "    <tr>\n",
              "      <th>23523</th>\n",
              "      <td>Uganda</td>\n",
              "      <td>2018</td>\n",
              "      <td>uniqueid_2117</td>\n",
              "      <td>No</td>\n",
              "      <td>Rural</td>\n",
              "      <td>Yes</td>\n",
              "      <td>10.0</td>\n",
              "      <td>20.0</td>\n",
              "      <td>Male</td>\n",
              "      <td>Child</td>\n",
              "      <td>Single/Never Married</td>\n",
              "      <td>Secondary education</td>\n",
              "      <td>No Income</td>\n",
              "    </tr>\n",
              "  </tbody>\n",
              "</table>\n",
              "</div>\n",
              "      <button class=\"colab-df-convert\" onclick=\"convertToInteractive('df-2701adf2-4903-492a-b9ca-af5979e97b5d')\"\n",
              "              title=\"Convert this dataframe to an interactive table.\"\n",
              "              style=\"display:none;\">\n",
              "        \n",
              "  <svg xmlns=\"http://www.w3.org/2000/svg\" height=\"24px\"viewBox=\"0 0 24 24\"\n",
              "       width=\"24px\">\n",
              "    <path d=\"M0 0h24v24H0V0z\" fill=\"none\"/>\n",
              "    <path d=\"M18.56 5.44l.94 2.06.94-2.06 2.06-.94-2.06-.94-.94-2.06-.94 2.06-2.06.94zm-11 1L8.5 8.5l.94-2.06 2.06-.94-2.06-.94L8.5 2.5l-.94 2.06-2.06.94zm10 10l.94 2.06.94-2.06 2.06-.94-2.06-.94-.94-2.06-.94 2.06-2.06.94z\"/><path d=\"M17.41 7.96l-1.37-1.37c-.4-.4-.92-.59-1.43-.59-.52 0-1.04.2-1.43.59L10.3 9.45l-7.72 7.72c-.78.78-.78 2.05 0 2.83L4 21.41c.39.39.9.59 1.41.59.51 0 1.02-.2 1.41-.59l7.78-7.78 2.81-2.81c.8-.78.8-2.07 0-2.86zM5.41 20L4 18.59l7.72-7.72 1.47 1.35L5.41 20z\"/>\n",
              "  </svg>\n",
              "      </button>\n",
              "      \n",
              "  <style>\n",
              "    .colab-df-container {\n",
              "      display:flex;\n",
              "      flex-wrap:wrap;\n",
              "      gap: 12px;\n",
              "    }\n",
              "\n",
              "    .colab-df-convert {\n",
              "      background-color: #E8F0FE;\n",
              "      border: none;\n",
              "      border-radius: 50%;\n",
              "      cursor: pointer;\n",
              "      display: none;\n",
              "      fill: #1967D2;\n",
              "      height: 32px;\n",
              "      padding: 0 0 0 0;\n",
              "      width: 32px;\n",
              "    }\n",
              "\n",
              "    .colab-df-convert:hover {\n",
              "      background-color: #E2EBFA;\n",
              "      box-shadow: 0px 1px 2px rgba(60, 64, 67, 0.3), 0px 1px 3px 1px rgba(60, 64, 67, 0.15);\n",
              "      fill: #174EA6;\n",
              "    }\n",
              "\n",
              "    [theme=dark] .colab-df-convert {\n",
              "      background-color: #3B4455;\n",
              "      fill: #D2E3FC;\n",
              "    }\n",
              "\n",
              "    [theme=dark] .colab-df-convert:hover {\n",
              "      background-color: #434B5C;\n",
              "      box-shadow: 0px 1px 3px 1px rgba(0, 0, 0, 0.15);\n",
              "      filter: drop-shadow(0px 1px 2px rgba(0, 0, 0, 0.3));\n",
              "      fill: #FFFFFF;\n",
              "    }\n",
              "  </style>\n",
              "\n",
              "      <script>\n",
              "        const buttonEl =\n",
              "          document.querySelector('#df-2701adf2-4903-492a-b9ca-af5979e97b5d button.colab-df-convert');\n",
              "        buttonEl.style.display =\n",
              "          google.colab.kernel.accessAllowed ? 'block' : 'none';\n",
              "\n",
              "        async function convertToInteractive(key) {\n",
              "          const element = document.querySelector('#df-2701adf2-4903-492a-b9ca-af5979e97b5d');\n",
              "          const dataTable =\n",
              "            await google.colab.kernel.invokeFunction('convertToInteractive',\n",
              "                                                     [key], {});\n",
              "          if (!dataTable) return;\n",
              "\n",
              "          const docLinkHtml = 'Like what you see? Visit the ' +\n",
              "            '<a target=\"_blank\" href=https://colab.research.google.com/notebooks/data_table.ipynb>data table notebook</a>'\n",
              "            + ' to learn more about interactive tables.';\n",
              "          element.innerHTML = '';\n",
              "          dataTable['output_type'] = 'display_data';\n",
              "          await google.colab.output.renderOutput(dataTable, element);\n",
              "          const docLink = document.createElement('div');\n",
              "          docLink.innerHTML = docLinkHtml;\n",
              "          element.appendChild(docLink);\n",
              "        }\n",
              "      </script>\n",
              "    </div>\n",
              "  </div>\n",
              "  "
            ]
          },
          "metadata": {},
          "execution_count": 4
        }
      ]
    },
    {
      "cell_type": "markdown",
      "source": [
        "##3.0 Checking the Data"
      ],
      "metadata": {
        "id": "wyImNvmKGdKR"
      }
    },
    {
      "cell_type": "code",
      "source": [
        "# Getting to know more about the dataset\n",
        "# Access detailed information about our dataset\n",
        "#\n",
        "\n",
        "FinAccess_df.info()"
      ],
      "metadata": {
        "colab": {
          "base_uri": "https://localhost:8080/"
        },
        "id": "zSpVFUsoeSqH",
        "outputId": "4d3ff05e-dd60-461f-921c-4cc533b24a9d"
      },
      "execution_count": 5,
      "outputs": [
        {
          "output_type": "stream",
          "name": "stdout",
          "text": [
            "<class 'pandas.core.frame.DataFrame'>\n",
            "RangeIndex: 23524 entries, 0 to 23523\n",
            "Data columns (total 13 columns):\n",
            " #   Column                  Non-Null Count  Dtype  \n",
            "---  ------                  --------------  -----  \n",
            " 0   country                 23510 non-null  object \n",
            " 1   year                    23524 non-null  int64  \n",
            " 2   uniqueid                23524 non-null  object \n",
            " 3   Has a Bank account      23488 non-null  object \n",
            " 4   Type of Location        23509 non-null  object \n",
            " 5   Cell Phone Access       23513 non-null  object \n",
            " 6   household_size          23496 non-null  float64\n",
            " 7   Respondent Age          23490 non-null  float64\n",
            " 8   gender_of_respondent    23490 non-null  object \n",
            " 9   The relathip with head  23520 non-null  object \n",
            " 10  marital_status          23492 non-null  object \n",
            " 11  Level of Educuation     23495 non-null  object \n",
            " 12  Type of Job             23494 non-null  object \n",
            "dtypes: float64(2), int64(1), object(10)\n",
            "memory usage: 2.3+ MB\n"
          ]
        }
      ]
    },
    {
      "cell_type": "code",
      "source": [
        "# Check the number of records in our dataset\n",
        "#\n",
        "FinAccess_df.shape"
      ],
      "metadata": {
        "colab": {
          "base_uri": "https://localhost:8080/"
        },
        "id": "pzncVJCbe7CP",
        "outputId": "16e14e5d-0082-4ceb-a285-9f75f1401bcb"
      },
      "execution_count": 6,
      "outputs": [
        {
          "output_type": "execute_result",
          "data": {
            "text/plain": [
              "(23524, 13)"
            ]
          },
          "metadata": {},
          "execution_count": 6
        }
      ]
    },
    {
      "cell_type": "code",
      "source": [
        "# Running str()\n",
        "# Examining the classes of each of the columns to make sure they are correctly specified\n",
        "#\n",
        "\n",
        "str(FinAccess_df)"
      ],
      "metadata": {
        "colab": {
          "base_uri": "https://localhost:8080/",
          "height": 0
        },
        "id": "7wMXRkDXfkfb",
        "outputId": "a3904548-681d-4d2f-ba3c-b729e57fe26f"
      },
      "execution_count": 7,
      "outputs": [
        {
          "output_type": "execute_result",
          "data": {
            "text/plain": [
              "'      country  year       uniqueid Has a Bank account Type of Location  \\\\\\n0       Kenya  2018     uniqueid_1                Yes            Rural   \\n1       Kenya  2018     uniqueid_2                 No            Rural   \\n2       Kenya  2018     uniqueid_3                Yes            Urban   \\n3       Kenya  2018     uniqueid_4                 No            Rural   \\n4       Kenya  2018     uniqueid_5                 No            Urban   \\n...       ...   ...            ...                ...              ...   \\n23519  Uganda  2018  uniqueid_2113                 No            Rural   \\n23520  Uganda  2018  uniqueid_2114                 No            Rural   \\n23521  Uganda  2018  uniqueid_2115                 No            Rural   \\n23522  Uganda  2018  uniqueid_2116                 No            Urban   \\n23523  Uganda  2018  uniqueid_2117                 No            Rural   \\n\\n      Cell Phone Access  household_size  Respondent Age gender_of_respondent  \\\\\\n0                   Yes             3.0            24.0               Female   \\n1                    No             5.0            70.0               Female   \\n2                   Yes             5.0            26.0                 Male   \\n3                   Yes             5.0            34.0               Female   \\n4                    No             8.0            26.0                 Male   \\n...                 ...             ...             ...                  ...   \\n23519               Yes             4.0            48.0               Female   \\n23520               Yes             2.0            27.0               Female   \\n23521               Yes             5.0            27.0               Female   \\n23522               Yes             7.0            30.0               Female   \\n23523               Yes            10.0            20.0                 Male   \\n\\n      The relathip with head           marital_status  \\\\\\n0                     Spouse  Married/Living together   \\n1          Head of Household                  Widowed   \\n2             Other relative     Single/Never Married   \\n3          Head of Household  Married/Living together   \\n4                      Child     Single/Never Married   \\n...                      ...                      ...   \\n23519      Head of Household       Divorced/Seperated   \\n23520      Head of Household     Single/Never Married   \\n23521                 Parent                  Widowed   \\n23522                 Parent       Divorced/Seperated   \\n23523                  Child     Single/Never Married   \\n\\n                   Level of Educuation                Type of Job  \\n0                  Secondary education              Self employed  \\n1                  No formal education       Government Dependent  \\n2      Vocational/Specialised training              Self employed  \\n3                    Primary education  Formally employed Private  \\n4                    Primary education        Informally employed  \\n...                                ...                        ...  \\n23519              No formal education               Other Income  \\n23520              Secondary education               Other Income  \\n23521                Primary education               Other Income  \\n23522              Secondary education              Self employed  \\n23523              Secondary education                  No Income  \\n\\n[23524 rows x 13 columns]'"
            ],
            "application/vnd.google.colaboratory.intrinsic+json": {
              "type": "string"
            }
          },
          "metadata": {},
          "execution_count": 7
        }
      ]
    },
    {
      "cell_type": "code",
      "source": [
        "# Examine data types of each column\n",
        "#\n",
        "FinAccess_df.dtypes"
      ],
      "metadata": {
        "colab": {
          "base_uri": "https://localhost:8080/"
        },
        "id": "xwHwNsgihUow",
        "outputId": "39139b4d-dc52-4010-cb6b-3b101d09afe5"
      },
      "execution_count": 8,
      "outputs": [
        {
          "output_type": "execute_result",
          "data": {
            "text/plain": [
              "country                    object\n",
              "year                        int64\n",
              "uniqueid                   object\n",
              "Has a Bank account         object\n",
              "Type of Location           object\n",
              "Cell Phone Access          object\n",
              "household_size            float64\n",
              "Respondent Age            float64\n",
              "gender_of_respondent       object\n",
              "The relathip with head     object\n",
              "marital_status             object\n",
              "Level of Educuation        object\n",
              "Type of Job                object\n",
              "dtype: object"
            ]
          },
          "metadata": {},
          "execution_count": 8
        }
      ]
    },
    {
      "cell_type": "markdown",
      "source": [
        "## 4.0  External Data Source Validation"
      ],
      "metadata": {
        "id": "yBKiVkooGkBG"
      }
    },
    {
      "cell_type": "markdown",
      "source": [
        "> No external data source to validate our dataset values"
      ],
      "metadata": {
        "id": "OQ5oIFxRbK-s"
      }
    },
    {
      "cell_type": "markdown",
      "source": [
        "## 5.0 Tidying the Dataset"
      ],
      "metadata": {
        "id": "a-C9qVi2Gppj"
      }
    },
    {
      "cell_type": "markdown",
      "source": [
        "### 5.1 Replace Space in Column Names"
      ],
      "metadata": {
        "id": "gunmlXYb6-Fh"
      }
    },
    {
      "cell_type": "code",
      "source": [
        "#Create a new dataframe\n",
        "#\n",
        "FinAccess_df2 = FinAccess_df\n",
        "\n",
        "# Replace space with underscore in column names\n",
        "#\n",
        "FinAccess_df2.columns = FinAccess_df.columns.str.replace(' ','_')\n"
      ],
      "metadata": {
        "id": "rdTl9tk27Haw"
      },
      "execution_count": 9,
      "outputs": []
    },
    {
      "cell_type": "markdown",
      "source": [
        "### 5.2 Checking for outliers"
      ],
      "metadata": {
        "id": "oVObgBF24XRc"
      }
    },
    {
      "cell_type": "code",
      "source": [
        "# Summary statistics to  determine whether or not the dataset has outliers\n",
        "#\n",
        "FinAccess_df2.describe()"
      ],
      "metadata": {
        "colab": {
          "base_uri": "https://localhost:8080/",
          "height": 0
        },
        "id": "4Nmnt3B84A5t",
        "outputId": "38d4c64a-ce86-451c-f2d7-a2885c43b70a"
      },
      "execution_count": 10,
      "outputs": [
        {
          "output_type": "execute_result",
          "data": {
            "text/plain": [
              "               year  household_size  Respondent_Age\n",
              "count  23524.000000    23496.000000    23490.000000\n",
              "mean    2016.979000        3.681818       38.804300\n",
              "std        0.899669        2.279933       16.519996\n",
              "min     2016.000000        0.000000       16.000000\n",
              "25%     2016.000000        2.000000       26.000000\n",
              "50%     2017.000000        3.000000       35.000000\n",
              "75%     2018.000000        5.000000       49.000000\n",
              "max     2056.000000       21.000000      100.000000"
            ],
            "text/html": [
              "\n",
              "  <div id=\"df-9fc8a4a7-e151-45c4-9f27-eef34bd56588\">\n",
              "    <div class=\"colab-df-container\">\n",
              "      <div>\n",
              "<style scoped>\n",
              "    .dataframe tbody tr th:only-of-type {\n",
              "        vertical-align: middle;\n",
              "    }\n",
              "\n",
              "    .dataframe tbody tr th {\n",
              "        vertical-align: top;\n",
              "    }\n",
              "\n",
              "    .dataframe thead th {\n",
              "        text-align: right;\n",
              "    }\n",
              "</style>\n",
              "<table border=\"1\" class=\"dataframe\">\n",
              "  <thead>\n",
              "    <tr style=\"text-align: right;\">\n",
              "      <th></th>\n",
              "      <th>year</th>\n",
              "      <th>household_size</th>\n",
              "      <th>Respondent_Age</th>\n",
              "    </tr>\n",
              "  </thead>\n",
              "  <tbody>\n",
              "    <tr>\n",
              "      <th>count</th>\n",
              "      <td>23524.000000</td>\n",
              "      <td>23496.000000</td>\n",
              "      <td>23490.000000</td>\n",
              "    </tr>\n",
              "    <tr>\n",
              "      <th>mean</th>\n",
              "      <td>2016.979000</td>\n",
              "      <td>3.681818</td>\n",
              "      <td>38.804300</td>\n",
              "    </tr>\n",
              "    <tr>\n",
              "      <th>std</th>\n",
              "      <td>0.899669</td>\n",
              "      <td>2.279933</td>\n",
              "      <td>16.519996</td>\n",
              "    </tr>\n",
              "    <tr>\n",
              "      <th>min</th>\n",
              "      <td>2016.000000</td>\n",
              "      <td>0.000000</td>\n",
              "      <td>16.000000</td>\n",
              "    </tr>\n",
              "    <tr>\n",
              "      <th>25%</th>\n",
              "      <td>2016.000000</td>\n",
              "      <td>2.000000</td>\n",
              "      <td>26.000000</td>\n",
              "    </tr>\n",
              "    <tr>\n",
              "      <th>50%</th>\n",
              "      <td>2017.000000</td>\n",
              "      <td>3.000000</td>\n",
              "      <td>35.000000</td>\n",
              "    </tr>\n",
              "    <tr>\n",
              "      <th>75%</th>\n",
              "      <td>2018.000000</td>\n",
              "      <td>5.000000</td>\n",
              "      <td>49.000000</td>\n",
              "    </tr>\n",
              "    <tr>\n",
              "      <th>max</th>\n",
              "      <td>2056.000000</td>\n",
              "      <td>21.000000</td>\n",
              "      <td>100.000000</td>\n",
              "    </tr>\n",
              "  </tbody>\n",
              "</table>\n",
              "</div>\n",
              "      <button class=\"colab-df-convert\" onclick=\"convertToInteractive('df-9fc8a4a7-e151-45c4-9f27-eef34bd56588')\"\n",
              "              title=\"Convert this dataframe to an interactive table.\"\n",
              "              style=\"display:none;\">\n",
              "        \n",
              "  <svg xmlns=\"http://www.w3.org/2000/svg\" height=\"24px\"viewBox=\"0 0 24 24\"\n",
              "       width=\"24px\">\n",
              "    <path d=\"M0 0h24v24H0V0z\" fill=\"none\"/>\n",
              "    <path d=\"M18.56 5.44l.94 2.06.94-2.06 2.06-.94-2.06-.94-.94-2.06-.94 2.06-2.06.94zm-11 1L8.5 8.5l.94-2.06 2.06-.94-2.06-.94L8.5 2.5l-.94 2.06-2.06.94zm10 10l.94 2.06.94-2.06 2.06-.94-2.06-.94-.94-2.06-.94 2.06-2.06.94z\"/><path d=\"M17.41 7.96l-1.37-1.37c-.4-.4-.92-.59-1.43-.59-.52 0-1.04.2-1.43.59L10.3 9.45l-7.72 7.72c-.78.78-.78 2.05 0 2.83L4 21.41c.39.39.9.59 1.41.59.51 0 1.02-.2 1.41-.59l7.78-7.78 2.81-2.81c.8-.78.8-2.07 0-2.86zM5.41 20L4 18.59l7.72-7.72 1.47 1.35L5.41 20z\"/>\n",
              "  </svg>\n",
              "      </button>\n",
              "      \n",
              "  <style>\n",
              "    .colab-df-container {\n",
              "      display:flex;\n",
              "      flex-wrap:wrap;\n",
              "      gap: 12px;\n",
              "    }\n",
              "\n",
              "    .colab-df-convert {\n",
              "      background-color: #E8F0FE;\n",
              "      border: none;\n",
              "      border-radius: 50%;\n",
              "      cursor: pointer;\n",
              "      display: none;\n",
              "      fill: #1967D2;\n",
              "      height: 32px;\n",
              "      padding: 0 0 0 0;\n",
              "      width: 32px;\n",
              "    }\n",
              "\n",
              "    .colab-df-convert:hover {\n",
              "      background-color: #E2EBFA;\n",
              "      box-shadow: 0px 1px 2px rgba(60, 64, 67, 0.3), 0px 1px 3px 1px rgba(60, 64, 67, 0.15);\n",
              "      fill: #174EA6;\n",
              "    }\n",
              "\n",
              "    [theme=dark] .colab-df-convert {\n",
              "      background-color: #3B4455;\n",
              "      fill: #D2E3FC;\n",
              "    }\n",
              "\n",
              "    [theme=dark] .colab-df-convert:hover {\n",
              "      background-color: #434B5C;\n",
              "      box-shadow: 0px 1px 3px 1px rgba(0, 0, 0, 0.15);\n",
              "      filter: drop-shadow(0px 1px 2px rgba(0, 0, 0, 0.3));\n",
              "      fill: #FFFFFF;\n",
              "    }\n",
              "  </style>\n",
              "\n",
              "      <script>\n",
              "        const buttonEl =\n",
              "          document.querySelector('#df-9fc8a4a7-e151-45c4-9f27-eef34bd56588 button.colab-df-convert');\n",
              "        buttonEl.style.display =\n",
              "          google.colab.kernel.accessAllowed ? 'block' : 'none';\n",
              "\n",
              "        async function convertToInteractive(key) {\n",
              "          const element = document.querySelector('#df-9fc8a4a7-e151-45c4-9f27-eef34bd56588');\n",
              "          const dataTable =\n",
              "            await google.colab.kernel.invokeFunction('convertToInteractive',\n",
              "                                                     [key], {});\n",
              "          if (!dataTable) return;\n",
              "\n",
              "          const docLinkHtml = 'Like what you see? Visit the ' +\n",
              "            '<a target=\"_blank\" href=https://colab.research.google.com/notebooks/data_table.ipynb>data table notebook</a>'\n",
              "            + ' to learn more about interactive tables.';\n",
              "          element.innerHTML = '';\n",
              "          dataTable['output_type'] = 'display_data';\n",
              "          await google.colab.output.renderOutput(dataTable, element);\n",
              "          const docLink = document.createElement('div');\n",
              "          docLink.innerHTML = docLinkHtml;\n",
              "          element.appendChild(docLink);\n",
              "        }\n",
              "      </script>\n",
              "    </div>\n",
              "  </div>\n",
              "  "
            ]
          },
          "metadata": {},
          "execution_count": 10
        }
      ]
    },
    {
      "cell_type": "markdown",
      "source": [
        "#### 5.2.1 Obervation\n",
        "As we can see, year, \thousehold_size and respondent age  columns have outliers. For example, max year is 2056 while its mean is 2016.979."
      ],
      "metadata": {
        "id": "zmiGrHlZ47rL"
      }
    },
    {
      "cell_type": "code",
      "source": [
        "# Visualization of outliers using boxplot\n",
        "#\n",
        "#sns.boxplot(FinAccess_df[\"year\"], showmeans=True)\n",
        "\n",
        "fig, ((ax1, ax2, ax3)) = plt.subplots(3, figsize=(12, 7))\n",
        "\n",
        "sns.boxplot(FinAccess_df2['year'], ax=ax1)\n",
        "sns.boxplot(FinAccess_df2['household_size'], ax=ax2)\n",
        "sns.boxplot(FinAccess_df2['Respondent_Age'], ax=ax3)\n",
        "\n",
        "plt.tight_layout()"
      ],
      "metadata": {
        "colab": {
          "base_uri": "https://localhost:8080/",
          "height": 0
        },
        "id": "uOdyw1LclnGo",
        "outputId": "2027f175-a125-4cd8-e636-5b8ce270fd76"
      },
      "execution_count": 11,
      "outputs": [
        {
          "output_type": "stream",
          "name": "stderr",
          "text": [
            "/usr/local/lib/python3.7/dist-packages/seaborn/_decorators.py:43: FutureWarning: Pass the following variable as a keyword arg: x. From version 0.12, the only valid positional argument will be `data`, and passing other arguments without an explicit keyword will result in an error or misinterpretation.\n",
            "  FutureWarning\n",
            "/usr/local/lib/python3.7/dist-packages/seaborn/_decorators.py:43: FutureWarning: Pass the following variable as a keyword arg: x. From version 0.12, the only valid positional argument will be `data`, and passing other arguments without an explicit keyword will result in an error or misinterpretation.\n",
            "  FutureWarning\n",
            "/usr/local/lib/python3.7/dist-packages/seaborn/_decorators.py:43: FutureWarning: Pass the following variable as a keyword arg: x. From version 0.12, the only valid positional argument will be `data`, and passing other arguments without an explicit keyword will result in an error or misinterpretation.\n",
            "  FutureWarning\n"
          ]
        },
        {
          "output_type": "display_data",
          "data": {
            "text/plain": [
              "<Figure size 864x504 with 3 Axes>"
            ],
            "image/png": "[encoded data removed]"
          },
          "metadata": {
            "needs_background": "light"
          }
        }
      ]
    },
    {
      "cell_type": "markdown",
      "source": [
        "#### 5.2.2 Dealing with Outliers"
      ],
      "metadata": {
        "id": "TVW4hT7HIsA9"
      }
    },
    {
      "cell_type": "code",
      "source": [
        "# Capping outliers in the year column\n",
        "#\n",
        "# Calculate upper limit and lower limits since Finscope surveys ranging from 2016 to 2018\n",
        "#\n",
        "upper_limit = 2018\n",
        "lower_limit = 2016\n",
        "\n",
        "# Apply upper and lower limits to year column\n",
        "FinAccess_df2['year'] = np.where(FinAccess_df2['year'] > upper_limit,\n",
        "                                 upper_limit,\n",
        "                                 np.where( FinAccess_df2['year'] < lower_limit, \n",
        "                                          lower_limit, \n",
        "                                          FinAccess_df2['year']))"
      ],
      "metadata": {
        "id": "5cavVJQ8FywR"
      },
      "execution_count": 12,
      "outputs": []
    },
    {
      "cell_type": "code",
      "source": [
        "# Removal of outliers from household_size column\n",
        "# \n",
        "# Calculating the first quantile\n",
        "Q1 = FinAccess_df2['household_size'].quantile(0.25)\n",
        "# Calculating the third quantile\n",
        "Q3 = FinAccess_df2['household_size'].quantile(0.75)\n",
        "# Calculating the interquartile range\n",
        "\n",
        "IQR = Q3 - Q1\n",
        "\n",
        "lower=Q1-(1.5*IQR)\n",
        "upper=Q3+(1.5*IQR)\n",
        "\n",
        "FinAccess_df2['household_size']= np.where(FinAccess_df2['household_size'] >upper,upper,\\\n",
        "    np.where(FinAccess_df2['household_size'] <lower,lower,FinAccess_df2['household_size']))"
      ],
      "metadata": {
        "id": "X9TXsMk8Kqj4"
      },
      "execution_count": 13,
      "outputs": []
    },
    {
      "cell_type": "code",
      "source": [
        "# Removal of outliers from Respondent_Age Column\n",
        "# \n",
        "# Calculating the first quantile\n",
        "Q1 = FinAccess_df2['Respondent_Age'].quantile(0.25)\n",
        "# Calculating the third quantile\n",
        "Q3 = FinAccess_df2['Respondent_Age'].quantile(0.75)\n",
        "# Calculating the interquartile range\n",
        "\n",
        "IQR_RA = Q3 - Q1\n",
        "\n",
        "lower=Q1-(1.5*IQR_RA)\n",
        "upper=Q3+(1.5*IQR_RA)\n",
        "\n",
        "FinAccess_df2['Respondent_Age']= np.where(FinAccess_df2['Respondent_Age'] >upper,upper,\\\n",
        "    np.where(FinAccess_df2['Respondent_Age'] <lower,lower,FinAccess_df2['Respondent_Age']))"
      ],
      "metadata": {
        "id": "rn7NFxCZOMku"
      },
      "execution_count": 14,
      "outputs": []
    },
    {
      "cell_type": "code",
      "source": [
        "# Check Outliers\n",
        "fig, ((ax1, ax2, ax3)) = plt.subplots(3, figsize=(12, 7))\n",
        "\n",
        "sns.boxplot(FinAccess_df2['year'], ax=ax1)\n",
        "sns.boxplot(FinAccess_df2['household_size'], ax=ax2)\n",
        "sns.boxplot(FinAccess_df2['Respondent_Age'], ax=ax3)\n",
        "\n",
        "plt.tight_layout()"
      ],
      "metadata": {
        "colab": {
          "base_uri": "https://localhost:8080/",
          "height": 0
        },
        "id": "U9_nCdXlOlSk",
        "outputId": "2b27aa76-69f1-45e4-a486-d384bef85f39"
      },
      "execution_count": 15,
      "outputs": [
        {
          "output_type": "stream",
          "name": "stderr",
          "text": [
            "/usr/local/lib/python3.7/dist-packages/seaborn/_decorators.py:43: FutureWarning: Pass the following variable as a keyword arg: x. From version 0.12, the only valid positional argument will be `data`, and passing other arguments without an explicit keyword will result in an error or misinterpretation.\n",
            "  FutureWarning\n",
            "/usr/local/lib/python3.7/dist-packages/seaborn/_decorators.py:43: FutureWarning: Pass the following variable as a keyword arg: x. From version 0.12, the only valid positional argument will be `data`, and passing other arguments without an explicit keyword will result in an error or misinterpretation.\n",
            "  FutureWarning\n",
            "/usr/local/lib/python3.7/dist-packages/seaborn/_decorators.py:43: FutureWarning: Pass the following variable as a keyword arg: x. From version 0.12, the only valid positional argument will be `data`, and passing other arguments without an explicit keyword will result in an error or misinterpretation.\n",
            "  FutureWarning\n"
          ]
        },
        {
          "output_type": "display_data",
          "data": {
            "text/plain": [
              "<Figure size 864x504 with 3 Axes>"
            ],
            "image/png": "[encoded data removed]"
          },
          "metadata": {
            "needs_background": "light"
          }
        }
      ]
    },
    {
      "cell_type": "markdown",
      "source": [
        "#### 5.2.3 Observation \n",
        "No Outliers"
      ],
      "metadata": {
        "id": "uQ1bPWR0PCIs"
      }
    },
    {
      "cell_type": "markdown",
      "source": [
        "###5.3 Checking for Anomalies"
      ],
      "metadata": {
        "id": "uEmBjz_HF2O6"
      }
    },
    {
      "cell_type": "code",
      "source": [
        "# Checking for Anomalies in our dataset\n",
        "#\n",
        "FinAccess_df2.describe()"
      ],
      "metadata": {
        "colab": {
          "base_uri": "https://localhost:8080/",
          "height": 0
        },
        "id": "dsrLC70TmN5t",
        "outputId": "5d1ed64a-5483-48f8-ee6a-a949bc35f32a"
      },
      "execution_count": 16,
      "outputs": [
        {
          "output_type": "execute_result",
          "data": {
            "text/plain": [
              "               year  household_size  Respondent_Age\n",
              "count  23524.000000    23496.000000    23490.000000\n",
              "mean    2016.976024        3.655750       38.751235\n",
              "std        0.847373        2.193218       16.361919\n",
              "min     2016.000000        0.000000       16.000000\n",
              "25%     2016.000000        2.000000       26.000000\n",
              "50%     2017.000000        3.000000       35.000000\n",
              "75%     2018.000000        5.000000       49.000000\n",
              "max     2018.000000        9.500000       83.500000"
            ],
            "text/html": [
              "\n",
              "  <div id=\"df-7fec12a4-1605-4b11-958d-c1d7121d2758\">\n",
              "    <div class=\"colab-df-container\">\n",
              "      <div>\n",
              "<style scoped>\n",
              "    .dataframe tbody tr th:only-of-type {\n",
              "        vertical-align: middle;\n",
              "    }\n",
              "\n",
              "    .dataframe tbody tr th {\n",
              "        vertical-align: top;\n",
              "    }\n",
              "\n",
              "    .dataframe thead th {\n",
              "        text-align: right;\n",
              "    }\n",
              "</style>\n",
              "<table border=\"1\" class=\"dataframe\">\n",
              "  <thead>\n",
              "    <tr style=\"text-align: right;\">\n",
              "      <th></th>\n",
              "      <th>year</th>\n",
              "      <th>household_size</th>\n",
              "      <th>Respondent_Age</th>\n",
              "    </tr>\n",
              "  </thead>\n",
              "  <tbody>\n",
              "    <tr>\n",
              "      <th>count</th>\n",
              "      <td>23524.000000</td>\n",
              "      <td>23496.000000</td>\n",
              "      <td>23490.000000</td>\n",
              "    </tr>\n",
              "    <tr>\n",
              "      <th>mean</th>\n",
              "      <td>2016.976024</td>\n",
              "      <td>3.655750</td>\n",
              "      <td>38.751235</td>\n",
              "    </tr>\n",
              "    <tr>\n",
              "      <th>std</th>\n",
              "      <td>0.847373</td>\n",
              "      <td>2.193218</td>\n",
              "      <td>16.361919</td>\n",
              "    </tr>\n",
              "    <tr>\n",
              "      <th>min</th>\n",
              "      <td>2016.000000</td>\n",
              "      <td>0.000000</td>\n",
              "      <td>16.000000</td>\n",
              "    </tr>\n",
              "    <tr>\n",
              "      <th>25%</th>\n",
              "      <td>2016.000000</td>\n",
              "      <td>2.000000</td>\n",
              "      <td>26.000000</td>\n",
              "    </tr>\n",
              "    <tr>\n",
              "      <th>50%</th>\n",
              "      <td>2017.000000</td>\n",
              "      <td>3.000000</td>\n",
              "      <td>35.000000</td>\n",
              "    </tr>\n",
              "    <tr>\n",
              "      <th>75%</th>\n",
              "      <td>2018.000000</td>\n",
              "      <td>5.000000</td>\n",
              "      <td>49.000000</td>\n",
              "    </tr>\n",
              "    <tr>\n",
              "      <th>max</th>\n",
              "      <td>2018.000000</td>\n",
              "      <td>9.500000</td>\n",
              "      <td>83.500000</td>\n",
              "    </tr>\n",
              "  </tbody>\n",
              "</table>\n",
              "</div>\n",
              "      <button class=\"colab-df-convert\" onclick=\"convertToInteractive('df-7fec12a4-1605-4b11-958d-c1d7121d2758')\"\n",
              "              title=\"Convert this dataframe to an interactive table.\"\n",
              "              style=\"display:none;\">\n",
              "        \n",
              "  <svg xmlns=\"http://www.w3.org/2000/svg\" height=\"24px\"viewBox=\"0 0 24 24\"\n",
              "       width=\"24px\">\n",
              "    <path d=\"M0 0h24v24H0V0z\" fill=\"none\"/>\n",
              "    <path d=\"M18.56 5.44l.94 2.06.94-2.06 2.06-.94-2.06-.94-.94-2.06-.94 2.06-2.06.94zm-11 1L8.5 8.5l.94-2.06 2.06-.94-2.06-.94L8.5 2.5l-.94 2.06-2.06.94zm10 10l.94 2.06.94-2.06 2.06-.94-2.06-.94-.94-2.06-.94 2.06-2.06.94z\"/><path d=\"M17.41 7.96l-1.37-1.37c-.4-.4-.92-.59-1.43-.59-.52 0-1.04.2-1.43.59L10.3 9.45l-7.72 7.72c-.78.78-.78 2.05 0 2.83L4 21.41c.39.39.9.59 1.41.59.51 0 1.02-.2 1.41-.59l7.78-7.78 2.81-2.81c.8-.78.8-2.07 0-2.86zM5.41 20L4 18.59l7.72-7.72 1.47 1.35L5.41 20z\"/>\n",
              "  </svg>\n",
              "      </button>\n",
              "      \n",
              "  <style>\n",
              "    .colab-df-container {\n",
              "      display:flex;\n",
              "      flex-wrap:wrap;\n",
              "      gap: 12px;\n",
              "    }\n",
              "\n",
              "    .colab-df-convert {\n",
              "      background-color: #E8F0FE;\n",
              "      border: none;\n",
              "      border-radius: 50%;\n",
              "      cursor: pointer;\n",
              "      display: none;\n",
              "      fill: #1967D2;\n",
              "      height: 32px;\n",
              "      padding: 0 0 0 0;\n",
              "      width: 32px;\n",
              "    }\n",
              "\n",
              "    .colab-df-convert:hover {\n",
              "      background-color: #E2EBFA;\n",
              "      box-shadow: 0px 1px 2px rgba(60, 64, 67, 0.3), 0px 1px 3px 1px rgba(60, 64, 67, 0.15);\n",
              "      fill: #174EA6;\n",
              "    }\n",
              "\n",
              "    [theme=dark] .colab-df-convert {\n",
              "      background-color: #3B4455;\n",
              "      fill: #D2E3FC;\n",
              "    }\n",
              "\n",
              "    [theme=dark] .colab-df-convert:hover {\n",
              "      background-color: #434B5C;\n",
              "      box-shadow: 0px 1px 3px 1px rgba(0, 0, 0, 0.15);\n",
              "      filter: drop-shadow(0px 1px 2px rgba(0, 0, 0, 0.3));\n",
              "      fill: #FFFFFF;\n",
              "    }\n",
              "  </style>\n",
              "\n",
              "      <script>\n",
              "        const buttonEl =\n",
              "          document.querySelector('#df-7fec12a4-1605-4b11-958d-c1d7121d2758 button.colab-df-convert');\n",
              "        buttonEl.style.display =\n",
              "          google.colab.kernel.accessAllowed ? 'block' : 'none';\n",
              "\n",
              "        async function convertToInteractive(key) {\n",
              "          const element = document.querySelector('#df-7fec12a4-1605-4b11-958d-c1d7121d2758');\n",
              "          const dataTable =\n",
              "            await google.colab.kernel.invokeFunction('convertToInteractive',\n",
              "                                                     [key], {});\n",
              "          if (!dataTable) return;\n",
              "\n",
              "          const docLinkHtml = 'Like what you see? Visit the ' +\n",
              "            '<a target=\"_blank\" href=https://colab.research.google.com/notebooks/data_table.ipynb>data table notebook</a>'\n",
              "            + ' to learn more about interactive tables.';\n",
              "          element.innerHTML = '';\n",
              "          dataTable['output_type'] = 'display_data';\n",
              "          await google.colab.output.renderOutput(dataTable, element);\n",
              "          const docLink = document.createElement('div');\n",
              "          docLink.innerHTML = docLinkHtml;\n",
              "          element.appendChild(docLink);\n",
              "        }\n",
              "      </script>\n",
              "    </div>\n",
              "  </div>\n",
              "  "
            ]
          },
          "metadata": {},
          "execution_count": 16
        }
      ]
    },
    {
      "cell_type": "markdown",
      "source": [
        " ### 5.4 Checking for Missing Data"
      ],
      "metadata": {
        "id": "vpPgpDkUGG0M"
      }
    },
    {
      "cell_type": "code",
      "source": [
        "# Identifying the Missing Data\n",
        "#\n",
        "FinAccess_df2.isnull().sum()"
      ],
      "metadata": {
        "colab": {
          "base_uri": "https://localhost:8080/"
        },
        "id": "ngJDoJbomQmo",
        "outputId": "97511cc8-8f00-4235-f72d-c27491752456"
      },
      "execution_count": 17,
      "outputs": [
        {
          "output_type": "execute_result",
          "data": {
            "text/plain": [
              "country                   14\n",
              "year                       0\n",
              "uniqueid                   0\n",
              "Has_a_Bank_account        36\n",
              "Type_of_Location          15\n",
              "Cell_Phone_Access         11\n",
              "household_size            28\n",
              "Respondent_Age            34\n",
              "gender_of_respondent      34\n",
              "The_relathip_with_head     4\n",
              "marital_status            32\n",
              "Level_of_Educuation       29\n",
              "Type_of_Job               30\n",
              "dtype: int64"
            ]
          },
          "metadata": {},
          "execution_count": 17
        }
      ]
    },
    {
      "cell_type": "markdown",
      "source": [
        "####5.4.1 Observation\n",
        "There are missing values in our dataset"
      ],
      "metadata": {
        "id": "m9tmA5IXRh2G"
      }
    },
    {
      "cell_type": "markdown",
      "source": [
        "####5.4.2 Dealing with Missing Values"
      ],
      "metadata": {
        "id": "msY8HPpQRWix"
      }
    },
    {
      "cell_type": "code",
      "source": [
        "# Dropping missing data\n",
        "#\n",
        "FinAccess_df2.dropna(inplace=True)"
      ],
      "metadata": {
        "id": "5yEyWW2smTzW"
      },
      "execution_count": 18,
      "outputs": []
    },
    {
      "cell_type": "code",
      "source": [
        "# Check if changes have been made after dropping missing Data\n",
        "#\n",
        "FinAccess_df2.isnull().sum()"
      ],
      "metadata": {
        "colab": {
          "base_uri": "https://localhost:8080/"
        },
        "id": "yn-jAxSnUBgn",
        "outputId": "e963be66-e748-47a6-d551-e579582285ed"
      },
      "execution_count": 19,
      "outputs": [
        {
          "output_type": "execute_result",
          "data": {
            "text/plain": [
              "country                   0\n",
              "year                      0\n",
              "uniqueid                  0\n",
              "Has_a_Bank_account        0\n",
              "Type_of_Location          0\n",
              "Cell_Phone_Access         0\n",
              "household_size            0\n",
              "Respondent_Age            0\n",
              "gender_of_respondent      0\n",
              "The_relathip_with_head    0\n",
              "marital_status            0\n",
              "Level_of_Educuation       0\n",
              "Type_of_Job               0\n",
              "dtype: int64"
            ]
          },
          "metadata": {},
          "execution_count": 19
        }
      ]
    },
    {
      "cell_type": "markdown",
      "source": [
        "####5.4.3 Observation\n",
        "No missing values"
      ],
      "metadata": {
        "id": "VwuEUhcgUj4_"
      }
    },
    {
      "cell_type": "markdown",
      "source": [
        "### 5.5 More data cleaning procedures"
      ],
      "metadata": {
        "id": "GegLALlWPdUp"
      }
    },
    {
      "cell_type": "code",
      "source": [
        "# Checking for duplicates\n",
        "\n",
        "FinAccess_df2.duplicated().sum()"
      ],
      "metadata": {
        "colab": {
          "base_uri": "https://localhost:8080/"
        },
        "id": "3KcwgqKKmV4u",
        "outputId": "fdfcfdd4-1303-43cc-ec45-d277b2927389"
      },
      "execution_count": 20,
      "outputs": [
        {
          "output_type": "execute_result",
          "data": {
            "text/plain": [
              "0"
            ]
          },
          "metadata": {},
          "execution_count": 20
        }
      ]
    },
    {
      "cell_type": "code",
      "source": [
        "# Dropping columns no needed\n",
        "# Here, we will drop Uniqueid and Year columns\n",
        "#\n",
        "drop_clms = ['uniqueid', 'year']\n",
        "FinAccess_df2.drop(drop_clms, axis=1, inplace=True)"
      ],
      "metadata": {
        "id": "wavmp0fTUzg1"
      },
      "execution_count": 21,
      "outputs": []
    },
    {
      "cell_type": "markdown",
      "source": [
        "### 5.6 Clean Dataset"
      ],
      "metadata": {
        "id": "l0a0BgJwVV8G"
      }
    },
    {
      "cell_type": "code",
      "source": [
        "# Preview our cleean dataset \n",
        "#\n",
        "FinAccess_df3 = FinAccess_df2\n",
        "FinAccess_df3.head(5)"
      ],
      "metadata": {
        "colab": {
          "base_uri": "https://localhost:8080/",
          "height": 0
        },
        "id": "kAkcwLTsVZS_",
        "outputId": "22ebf99b-40b9-405c-e118-bcf17f987a74"
      },
      "execution_count": 22,
      "outputs": [
        {
          "output_type": "execute_result",
          "data": {
            "text/plain": [
              "  country Has_a_Bank_account Type_of_Location Cell_Phone_Access  \\\n",
              "0   Kenya                Yes            Rural               Yes   \n",
              "1   Kenya                 No            Rural                No   \n",
              "2   Kenya                Yes            Urban               Yes   \n",
              "3   Kenya                 No            Rural               Yes   \n",
              "4   Kenya                 No            Urban                No   \n",
              "\n",
              "   household_size  Respondent_Age gender_of_respondent The_relathip_with_head  \\\n",
              "0             3.0            24.0               Female                 Spouse   \n",
              "1             5.0            70.0               Female      Head of Household   \n",
              "2             5.0            26.0                 Male         Other relative   \n",
              "3             5.0            34.0               Female      Head of Household   \n",
              "4             8.0            26.0                 Male                  Child   \n",
              "\n",
              "            marital_status              Level_of_Educuation  \\\n",
              "0  Married/Living together              Secondary education   \n",
              "1                  Widowed              No formal education   \n",
              "2     Single/Never Married  Vocational/Specialised training   \n",
              "3  Married/Living together                Primary education   \n",
              "4     Single/Never Married                Primary education   \n",
              "\n",
              "                 Type_of_Job  \n",
              "0              Self employed  \n",
              "1       Government Dependent  \n",
              "2              Self employed  \n",
              "3  Formally employed Private  \n",
              "4        Informally employed  "
            ],
            "text/html": [
              "\n",
              "  <div id=\"df-85de09c8-5206-4247-b3ab-d4d6755463c6\">\n",
              "    <div class=\"colab-df-container\">\n",
              "      <div>\n",
              "<style scoped>\n",
              "    .dataframe tbody tr th:only-of-type {\n",
              "        vertical-align: middle;\n",
              "    }\n",
              "\n",
              "    .dataframe tbody tr th {\n",
              "        vertical-align: top;\n",
              "    }\n",
              "\n",
              "    .dataframe thead th {\n",
              "        text-align: right;\n",
              "    }\n",
              "</style>\n",
              "<table border=\"1\" class=\"dataframe\">\n",
              "  <thead>\n",
              "    <tr style=\"text-align: right;\">\n",
              "      <th></th>\n",
              "      <th>country</th>\n",
              "      <th>Has_a_Bank_account</th>\n",
              "      <th>Type_of_Location</th>\n",
              "      <th>Cell_Phone_Access</th>\n",
              "      <th>household_size</th>\n",
              "      <th>Respondent_Age</th>\n",
              "      <th>gender_of_respondent</th>\n",
              "      <th>The_relathip_with_head</th>\n",
              "      <th>marital_status</th>\n",
              "      <th>Level_of_Educuation</th>\n",
              "      <th>Type_of_Job</th>\n",
              "    </tr>\n",
              "  </thead>\n",
              "  <tbody>\n",
              "    <tr>\n",
              "      <th>0</th>\n",
              "      <td>Kenya</td>\n",
              "      <td>Yes</td>\n",
              "      <td>Rural</td>\n",
              "      <td>Yes</td>\n",
              "      <td>3.0</td>\n",
              "      <td>24.0</td>\n",
              "      <td>Female</td>\n",
              "      <td>Spouse</td>\n",
              "      <td>Married/Living together</td>\n",
              "      <td>Secondary education</td>\n",
              "      <td>Self employed</td>\n",
              "    </tr>\n",
              "    <tr>\n",
              "      <th>1</th>\n",
              "      <td>Kenya</td>\n",
              "      <td>No</td>\n",
              "      <td>Rural</td>\n",
              "      <td>No</td>\n",
              "      <td>5.0</td>\n",
              "      <td>70.0</td>\n",
              "      <td>Female</td>\n",
              "      <td>Head of Household</td>\n",
              "      <td>Widowed</td>\n",
              "      <td>No formal education</td>\n",
              "      <td>Government Dependent</td>\n",
              "    </tr>\n",
              "    <tr>\n",
              "      <th>2</th>\n",
              "      <td>Kenya</td>\n",
              "      <td>Yes</td>\n",
              "      <td>Urban</td>\n",
              "      <td>Yes</td>\n",
              "      <td>5.0</td>\n",
              "      <td>26.0</td>\n",
              "      <td>Male</td>\n",
              "      <td>Other relative</td>\n",
              "      <td>Single/Never Married</td>\n",
              "      <td>Vocational/Specialised training</td>\n",
              "      <td>Self employed</td>\n",
              "    </tr>\n",
              "    <tr>\n",
              "      <th>3</th>\n",
              "      <td>Kenya</td>\n",
              "      <td>No</td>\n",
              "      <td>Rural</td>\n",
              "      <td>Yes</td>\n",
              "      <td>5.0</td>\n",
              "      <td>34.0</td>\n",
              "      <td>Female</td>\n",
              "      <td>Head of Household</td>\n",
              "      <td>Married/Living together</td>\n",
              "      <td>Primary education</td>\n",
              "      <td>Formally employed Private</td>\n",
              "    </tr>\n",
              "    <tr>\n",
              "      <th>4</th>\n",
              "      <td>Kenya</td>\n",
              "      <td>No</td>\n",
              "      <td>Urban</td>\n",
              "      <td>No</td>\n",
              "      <td>8.0</td>\n",
              "      <td>26.0</td>\n",
              "      <td>Male</td>\n",
              "      <td>Child</td>\n",
              "      <td>Single/Never Married</td>\n",
              "      <td>Primary education</td>\n",
              "      <td>Informally employed</td>\n",
              "    </tr>\n",
              "  </tbody>\n",
              "</table>\n",
              "</div>\n",
              "      <button class=\"colab-df-convert\" onclick=\"convertToInteractive('df-85de09c8-5206-4247-b3ab-d4d6755463c6')\"\n",
              "              title=\"Convert this dataframe to an interactive table.\"\n",
              "              style=\"display:none;\">\n",
              "        \n",
              "  <svg xmlns=\"http://www.w3.org/2000/svg\" height=\"24px\"viewBox=\"0 0 24 24\"\n",
              "       width=\"24px\">\n",
              "    <path d=\"M0 0h24v24H0V0z\" fill=\"none\"/>\n",
              "    <path d=\"M18.56 5.44l.94 2.06.94-2.06 2.06-.94-2.06-.94-.94-2.06-.94 2.06-2.06.94zm-11 1L8.5 8.5l.94-2.06 2.06-.94-2.06-.94L8.5 2.5l-.94 2.06-2.06.94zm10 10l.94 2.06.94-2.06 2.06-.94-2.06-.94-.94-2.06-.94 2.06-2.06.94z\"/><path d=\"M17.41 7.96l-1.37-1.37c-.4-.4-.92-.59-1.43-.59-.52 0-1.04.2-1.43.59L10.3 9.45l-7.72 7.72c-.78.78-.78 2.05 0 2.83L4 21.41c.39.39.9.59 1.41.59.51 0 1.02-.2 1.41-.59l7.78-7.78 2.81-2.81c.8-.78.8-2.07 0-2.86zM5.41 20L4 18.59l7.72-7.72 1.47 1.35L5.41 20z\"/>\n",
              "  </svg>\n",
              "      </button>\n",
              "      \n",
              "  <style>\n",
              "    .colab-df-container {\n",
              "      display:flex;\n",
              "      flex-wrap:wrap;\n",
              "      gap: 12px;\n",
              "    }\n",
              "\n",
              "    .colab-df-convert {\n",
              "      background-color: #E8F0FE;\n",
              "      border: none;\n",
              "      border-radius: 50%;\n",
              "      cursor: pointer;\n",
              "      display: none;\n",
              "      fill: #1967D2;\n",
              "      height: 32px;\n",
              "      padding: 0 0 0 0;\n",
              "      width: 32px;\n",
              "    }\n",
              "\n",
              "    .colab-df-convert:hover {\n",
              "      background-color: #E2EBFA;\n",
              "      box-shadow: 0px 1px 2px rgba(60, 64, 67, 0.3), 0px 1px 3px 1px rgba(60, 64, 67, 0.15);\n",
              "      fill: #174EA6;\n",
              "    }\n",
              "\n",
              "    [theme=dark] .colab-df-convert {\n",
              "      background-color: #3B4455;\n",
              "      fill: #D2E3FC;\n",
              "    }\n",
              "\n",
              "    [theme=dark] .colab-df-convert:hover {\n",
              "      background-color: #434B5C;\n",
              "      box-shadow: 0px 1px 3px 1px rgba(0, 0, 0, 0.15);\n",
              "      filter: drop-shadow(0px 1px 2px rgba(0, 0, 0, 0.3));\n",
              "      fill: #FFFFFF;\n",
              "    }\n",
              "  </style>\n",
              "\n",
              "      <script>\n",
              "        const buttonEl =\n",
              "          document.querySelector('#df-85de09c8-5206-4247-b3ab-d4d6755463c6 button.colab-df-convert');\n",
              "        buttonEl.style.display =\n",
              "          google.colab.kernel.accessAllowed ? 'block' : 'none';\n",
              "\n",
              "        async function convertToInteractive(key) {\n",
              "          const element = document.querySelector('#df-85de09c8-5206-4247-b3ab-d4d6755463c6');\n",
              "          const dataTable =\n",
              "            await google.colab.kernel.invokeFunction('convertToInteractive',\n",
              "                                                     [key], {});\n",
              "          if (!dataTable) return;\n",
              "\n",
              "          const docLinkHtml = 'Like what you see? Visit the ' +\n",
              "            '<a target=\"_blank\" href=https://colab.research.google.com/notebooks/data_table.ipynb>data table notebook</a>'\n",
              "            + ' to learn more about interactive tables.';\n",
              "          element.innerHTML = '';\n",
              "          dataTable['output_type'] = 'display_data';\n",
              "          await google.colab.output.renderOutput(dataTable, element);\n",
              "          const docLink = document.createElement('div');\n",
              "          docLink.innerHTML = docLinkHtml;\n",
              "          element.appendChild(docLink);\n",
              "        }\n",
              "      </script>\n",
              "    </div>\n",
              "  </div>\n",
              "  "
            ]
          },
          "metadata": {},
          "execution_count": 22
        }
      ]
    },
    {
      "cell_type": "code",
      "source": [
        "# Information about clean dataset\n",
        "FinAccess_df3.info()"
      ],
      "metadata": {
        "colab": {
          "base_uri": "https://localhost:8080/"
        },
        "id": "WKiQRKJdXW5b",
        "outputId": "f06045c5-87eb-4684-b9e4-1ed9763691a9"
      },
      "execution_count": 23,
      "outputs": [
        {
          "output_type": "stream",
          "name": "stdout",
          "text": [
            "<class 'pandas.core.frame.DataFrame'>\n",
            "Int64Index: 23343 entries, 0 to 23523\n",
            "Data columns (total 11 columns):\n",
            " #   Column                  Non-Null Count  Dtype  \n",
            "---  ------                  --------------  -----  \n",
            " 0   country                 23343 non-null  object \n",
            " 1   Has_a_Bank_account      23343 non-null  object \n",
            " 2   Type_of_Location        23343 non-null  object \n",
            " 3   Cell_Phone_Access       23343 non-null  object \n",
            " 4   household_size          23343 non-null  float64\n",
            " 5   Respondent_Age          23343 non-null  float64\n",
            " 6   gender_of_respondent    23343 non-null  object \n",
            " 7   The_relathip_with_head  23343 non-null  object \n",
            " 8   marital_status          23343 non-null  object \n",
            " 9   Level_of_Educuation     23343 non-null  object \n",
            " 10  Type_of_Job             23343 non-null  object \n",
            "dtypes: float64(2), object(9)\n",
            "memory usage: 2.1+ MB\n"
          ]
        }
      ]
    },
    {
      "cell_type": "markdown",
      "source": [
        "## 6.0 Exploratory Data Analysis"
      ],
      "metadata": {
        "id": "Ywegq3-3GtBc"
      }
    },
    {
      "cell_type": "markdown",
      "source": [
        "### 6.1 Univariate Analysis"
      ],
      "metadata": {
        "id": "lEv2Ib9Fz6Bt"
      }
    },
    {
      "cell_type": "markdown",
      "source": [
        "#### 6.1.1 Measures of Central Tendency & Dispersion"
      ],
      "metadata": {
        "id": "h-w4ukVg04FT"
      }
    },
    {
      "cell_type": "code",
      "source": [
        "# Statistic summary of our dataset\n",
        "FinAccess_df3.describe()"
      ],
      "metadata": {
        "colab": {
          "base_uri": "https://localhost:8080/",
          "height": 0
        },
        "id": "KwOgAj2nsvhA",
        "outputId": "6f005bdc-d8fc-4073-ef8e-54c9e63886ef"
      },
      "execution_count": 24,
      "outputs": [
        {
          "output_type": "execute_result",
          "data": {
            "text/plain": [
              "       household_size  Respondent_Age\n",
              "count    23343.000000    23343.000000\n",
              "mean         3.662426       38.752752\n",
              "std          2.194078       16.362674\n",
              "min          0.000000       16.000000\n",
              "25%          2.000000       26.000000\n",
              "50%          3.000000       35.000000\n",
              "75%          5.000000       49.000000\n",
              "max          9.500000       83.500000"
            ],
            "text/html": [
              "\n",
              "  <div id=\"df-2b4ca960-776d-4c53-b197-537406394c6b\">\n",
              "    <div class=\"colab-df-container\">\n",
              "      <div>\n",
              "<style scoped>\n",
              "    .dataframe tbody tr th:only-of-type {\n",
              "        vertical-align: middle;\n",
              "    }\n",
              "\n",
              "    .dataframe tbody tr th {\n",
              "        vertical-align: top;\n",
              "    }\n",
              "\n",
              "    .dataframe thead th {\n",
              "        text-align: right;\n",
              "    }\n",
              "</style>\n",
              "<table border=\"1\" class=\"dataframe\">\n",
              "  <thead>\n",
              "    <tr style=\"text-align: right;\">\n",
              "      <th></th>\n",
              "      <th>household_size</th>\n",
              "      <th>Respondent_Age</th>\n",
              "    </tr>\n",
              "  </thead>\n",
              "  <tbody>\n",
              "    <tr>\n",
              "      <th>count</th>\n",
              "      <td>23343.000000</td>\n",
              "      <td>23343.000000</td>\n",
              "    </tr>\n",
              "    <tr>\n",
              "      <th>mean</th>\n",
              "      <td>3.662426</td>\n",
              "      <td>38.752752</td>\n",
              "    </tr>\n",
              "    <tr>\n",
              "      <th>std</th>\n",
              "      <td>2.194078</td>\n",
              "      <td>16.362674</td>\n",
              "    </tr>\n",
              "    <tr>\n",
              "      <th>min</th>\n",
              "      <td>0.000000</td>\n",
              "      <td>16.000000</td>\n",
              "    </tr>\n",
              "    <tr>\n",
              "      <th>25%</th>\n",
              "      <td>2.000000</td>\n",
              "      <td>26.000000</td>\n",
              "    </tr>\n",
              "    <tr>\n",
              "      <th>50%</th>\n",
              "      <td>3.000000</td>\n",
              "      <td>35.000000</td>\n",
              "    </tr>\n",
              "    <tr>\n",
              "      <th>75%</th>\n",
              "      <td>5.000000</td>\n",
              "      <td>49.000000</td>\n",
              "    </tr>\n",
              "    <tr>\n",
              "      <th>max</th>\n",
              "      <td>9.500000</td>\n",
              "      <td>83.500000</td>\n",
              "    </tr>\n",
              "  </tbody>\n",
              "</table>\n",
              "</div>\n",
              "      <button class=\"colab-df-convert\" onclick=\"convertToInteractive('df-2b4ca960-776d-4c53-b197-537406394c6b')\"\n",
              "              title=\"Convert this dataframe to an interactive table.\"\n",
              "              style=\"display:none;\">\n",
              "        \n",
              "  <svg xmlns=\"http://www.w3.org/2000/svg\" height=\"24px\"viewBox=\"0 0 24 24\"\n",
              "       width=\"24px\">\n",
              "    <path d=\"M0 0h24v24H0V0z\" fill=\"none\"/>\n",
              "    <path d=\"M18.56 5.44l.94 2.06.94-2.06 2.06-.94-2.06-.94-.94-2.06-.94 2.06-2.06.94zm-11 1L8.5 8.5l.94-2.06 2.06-.94-2.06-.94L8.5 2.5l-.94 2.06-2.06.94zm10 10l.94 2.06.94-2.06 2.06-.94-2.06-.94-.94-2.06-.94 2.06-2.06.94z\"/><path d=\"M17.41 7.96l-1.37-1.37c-.4-.4-.92-.59-1.43-.59-.52 0-1.04.2-1.43.59L10.3 9.45l-7.72 7.72c-.78.78-.78 2.05 0 2.83L4 21.41c.39.39.9.59 1.41.59.51 0 1.02-.2 1.41-.59l7.78-7.78 2.81-2.81c.8-.78.8-2.07 0-2.86zM5.41 20L4 18.59l7.72-7.72 1.47 1.35L5.41 20z\"/>\n",
              "  </svg>\n",
              "      </button>\n",
              "      \n",
              "  <style>\n",
              "    .colab-df-container {\n",
              "      display:flex;\n",
              "      flex-wrap:wrap;\n",
              "      gap: 12px;\n",
              "    }\n",
              "\n",
              "    .colab-df-convert {\n",
              "      background-color: #E8F0FE;\n",
              "      border: none;\n",
              "      border-radius: 50%;\n",
              "      cursor: pointer;\n",
              "      display: none;\n",
              "      fill: #1967D2;\n",
              "      height: 32px;\n",
              "      padding: 0 0 0 0;\n",
              "      width: 32px;\n",
              "    }\n",
              "\n",
              "    .colab-df-convert:hover {\n",
              "      background-color: #E2EBFA;\n",
              "      box-shadow: 0px 1px 2px rgba(60, 64, 67, 0.3), 0px 1px 3px 1px rgba(60, 64, 67, 0.15);\n",
              "      fill: #174EA6;\n",
              "    }\n",
              "\n",
              "    [theme=dark] .colab-df-convert {\n",
              "      background-color: #3B4455;\n",
              "      fill: #D2E3FC;\n",
              "    }\n",
              "\n",
              "    [theme=dark] .colab-df-convert:hover {\n",
              "      background-color: #434B5C;\n",
              "      box-shadow: 0px 1px 3px 1px rgba(0, 0, 0, 0.15);\n",
              "      filter: drop-shadow(0px 1px 2px rgba(0, 0, 0, 0.3));\n",
              "      fill: #FFFFFF;\n",
              "    }\n",
              "  </style>\n",
              "\n",
              "      <script>\n",
              "        const buttonEl =\n",
              "          document.querySelector('#df-2b4ca960-776d-4c53-b197-537406394c6b button.colab-df-convert');\n",
              "        buttonEl.style.display =\n",
              "          google.colab.kernel.accessAllowed ? 'block' : 'none';\n",
              "\n",
              "        async function convertToInteractive(key) {\n",
              "          const element = document.querySelector('#df-2b4ca960-776d-4c53-b197-537406394c6b');\n",
              "          const dataTable =\n",
              "            await google.colab.kernel.invokeFunction('convertToInteractive',\n",
              "                                                     [key], {});\n",
              "          if (!dataTable) return;\n",
              "\n",
              "          const docLinkHtml = 'Like what you see? Visit the ' +\n",
              "            '<a target=\"_blank\" href=https://colab.research.google.com/notebooks/data_table.ipynb>data table notebook</a>'\n",
              "            + ' to learn more about interactive tables.';\n",
              "          element.innerHTML = '';\n",
              "          dataTable['output_type'] = 'display_data';\n",
              "          await google.colab.output.renderOutput(dataTable, element);\n",
              "          const docLink = document.createElement('div');\n",
              "          docLink.innerHTML = docLinkHtml;\n",
              "          element.appendChild(docLink);\n",
              "        }\n",
              "      </script>\n",
              "    </div>\n",
              "  </div>\n",
              "  "
            ]
          },
          "metadata": {},
          "execution_count": 24
        }
      ]
    },
    {
      "cell_type": "code",
      "source": [
        "# Find mode of household size\n",
        "#\n",
        "FinAccess_df3['household_size'].mode()"
      ],
      "metadata": {
        "colab": {
          "base_uri": "https://localhost:8080/"
        },
        "id": "ZdfO1fAxyNL4",
        "outputId": "d07cf150-9751-4a9b-bfd7-e29181f1a0c2"
      },
      "execution_count": 25,
      "outputs": [
        {
          "output_type": "execute_result",
          "data": {
            "text/plain": [
              "0    2.0\n",
              "dtype: float64"
            ]
          },
          "metadata": {},
          "execution_count": 25
        }
      ]
    },
    {
      "cell_type": "code",
      "source": [
        "# Find mode of respondent ages\n",
        "#\n",
        "FinAccess_df3['Respondent_Age'].mode()"
      ],
      "metadata": {
        "colab": {
          "base_uri": "https://localhost:8080/"
        },
        "id": "VYA7X6tXyRNM",
        "outputId": "fc4630f0-a915-41e9-ac69-a04e53e0d51e"
      },
      "execution_count": 26,
      "outputs": [
        {
          "output_type": "execute_result",
          "data": {
            "text/plain": [
              "0    30.0\n",
              "dtype: float64"
            ]
          },
          "metadata": {},
          "execution_count": 26
        }
      ]
    },
    {
      "cell_type": "code",
      "source": [
        "# Find the median of  household_size\n",
        "#\n",
        "FinAccess_df3['household_size'].median()"
      ],
      "metadata": {
        "colab": {
          "base_uri": "https://localhost:8080/"
        },
        "id": "GKzuh1wjyTbn",
        "outputId": "4192b207-8e3f-4dc5-afdc-4a791915f5e0"
      },
      "execution_count": 27,
      "outputs": [
        {
          "output_type": "execute_result",
          "data": {
            "text/plain": [
              "3.0"
            ]
          },
          "metadata": {},
          "execution_count": 27
        }
      ]
    },
    {
      "cell_type": "code",
      "source": [
        "# Find the median of respondent ages\n",
        "#\n",
        "FinAccess_df3['Respondent_Age'].median()"
      ],
      "metadata": {
        "colab": {
          "base_uri": "https://localhost:8080/"
        },
        "id": "aYjB9JuOyS4c",
        "outputId": "385abb0e-2cdd-422f-da36-de0f3d07fd99"
      },
      "execution_count": 28,
      "outputs": [
        {
          "output_type": "execute_result",
          "data": {
            "text/plain": [
              "35.0"
            ]
          },
          "metadata": {},
          "execution_count": 28
        }
      ]
    },
    {
      "cell_type": "code",
      "source": [
        "# Variance of household size\n",
        "FinAccess_df3['household_size'].var()"
      ],
      "metadata": {
        "colab": {
          "base_uri": "https://localhost:8080/"
        },
        "id": "6wJ5WbWkxeZm",
        "outputId": "bf59d3df-c34c-4bfa-ac16-878f998eb697"
      },
      "execution_count": 29,
      "outputs": [
        {
          "output_type": "execute_result",
          "data": {
            "text/plain": [
              "4.813979670311366"
            ]
          },
          "metadata": {},
          "execution_count": 29
        }
      ]
    },
    {
      "cell_type": "code",
      "source": [
        "# Variance of respondent ages\n",
        "#\n",
        "FinAccess_df3['Respondent_Age'].var()\n"
      ],
      "metadata": {
        "colab": {
          "base_uri": "https://localhost:8080/"
        },
        "id": "rvEle-ybxpvs",
        "outputId": "4d4d02be-4929-4ace-caf9-edd06b4c10c0"
      },
      "execution_count": 30,
      "outputs": [
        {
          "output_type": "execute_result",
          "data": {
            "text/plain": [
              "267.73711595646995"
            ]
          },
          "metadata": {},
          "execution_count": 30
        }
      ]
    },
    {
      "cell_type": "markdown",
      "source": [
        "Summary above shows the mean, standard deviation, quantiles,maximum and minimum values of household size and respondent ages. \n",
        "\n",
        "On average, household sizes under investigation is about 4 people and the average age of the respondents is 38.75 years old. "
      ],
      "metadata": {
        "id": "_G2xKYrZwFSE"
      }
    },
    {
      "cell_type": "markdown",
      "source": [
        "####6.1.2 Skewness"
      ],
      "metadata": {
        "id": "iXqrhzv31LSy"
      }
    },
    {
      "cell_type": "code",
      "source": [
        "# Skewness of household size\n",
        "#\n",
        "FinAccess_df3['household_size'].skew()"
      ],
      "metadata": {
        "colab": {
          "base_uri": "https://localhost:8080/"
        },
        "id": "KFn1ngOPzJy0",
        "outputId": "a7abd5e3-2820-4897-d3c6-98c9fa703261"
      },
      "execution_count": 31,
      "outputs": [
        {
          "output_type": "execute_result",
          "data": {
            "text/plain": [
              "0.7000022959756181"
            ]
          },
          "metadata": {},
          "execution_count": 31
        }
      ]
    },
    {
      "cell_type": "code",
      "source": [
        "# Skewness of respondent age\n",
        "#\n",
        "FinAccess_df3['Respondent_Age'].skew()\n"
      ],
      "metadata": {
        "colab": {
          "base_uri": "https://localhost:8080/"
        },
        "id": "Rcgz2Z17zk_q",
        "outputId": "4f57ccce-7990-4bcf-ec39-26bbf2062b74"
      },
      "execution_count": 32,
      "outputs": [
        {
          "output_type": "execute_result",
          "data": {
            "text/plain": [
              "0.787790911779979"
            ]
          },
          "metadata": {},
          "execution_count": 32
        }
      ]
    },
    {
      "cell_type": "markdown",
      "source": [
        "A positive skew for both household size and respondents age which means that tail on the right of the curve is bigger than that on the left."
      ],
      "metadata": {
        "id": "bz0OuIOO1f0-"
      }
    },
    {
      "cell_type": "markdown",
      "source": [
        "####6.1.3 Kurtosis"
      ],
      "metadata": {
        "id": "MvVEez1M1aTZ"
      }
    },
    {
      "cell_type": "code",
      "source": [
        "# Kurtosis of household size\n",
        "FinAccess_df3['household_size'].kurt()"
      ],
      "metadata": {
        "colab": {
          "base_uri": "https://localhost:8080/"
        },
        "id": "h4epsJ-L0IgG",
        "outputId": "7c133036-5344-461d-f8b1-81d755f3031f"
      },
      "execution_count": 33,
      "outputs": [
        {
          "output_type": "execute_result",
          "data": {
            "text/plain": [
              "-0.28313297837418805"
            ]
          },
          "metadata": {},
          "execution_count": 33
        }
      ]
    },
    {
      "cell_type": "code",
      "source": [
        "# Kurtosis of Respondent Age\n",
        "FinAccess_df3['Respondent_Age'].kurt()"
      ],
      "metadata": {
        "colab": {
          "base_uri": "https://localhost:8080/"
        },
        "id": "7Ms3Vii_0UuE",
        "outputId": "78262491-4d9a-4b49-83a7-61af037f17d7"
      },
      "execution_count": 34,
      "outputs": [
        {
          "output_type": "execute_result",
          "data": {
            "text/plain": [
              "-0.12146783315721921"
            ]
          },
          "metadata": {},
          "execution_count": 34
        }
      ]
    },
    {
      "cell_type": "markdown",
      "source": [
        "Kurtosis is less than normal distribution depicting a light tail."
      ],
      "metadata": {
        "id": "3loPBaGy1zar"
      }
    },
    {
      "cell_type": "markdown",
      "source": [
        "#### 6.1.4 Visualization and Key Observations"
      ],
      "metadata": {
        "id": "P7TDBahi2POV"
      }
    },
    {
      "cell_type": "code",
      "source": [
        "# Visualise number of correspondents by country of origin\n",
        "#\n",
        "FinAccess_df3.country.value_counts().plot.bar()\n",
        "plt.xlabel('Country')\n",
        "plt.ylabel('No. of Respondents')\n",
        "plt.title('Sample Population Distribution')\n",
        "plt.show()"
      ],
      "metadata": {
        "colab": {
          "base_uri": "https://localhost:8080/",
          "height": 0
        },
        "id": "fYuALA2altdO",
        "outputId": "a56fdd68-3474-4292-c8e9-7ee5e988342c"
      },
      "execution_count": 35,
      "outputs": [
        {
          "output_type": "display_data",
          "data": {
            "text/plain": [
              "<Figure size 432x288 with 1 Axes>"
            ],
            "image/png": "[encoded data removed]"
          },
          "metadata": {
            "needs_background": "light"
          }
        }
      ]
    },
    {
      "cell_type": "markdown",
      "source": [
        "Rwanda has the highest respondents (over 8000), followed by Tanzania (between 6000 & 7000), then Kenya follows closely and the country with least no. of correspondents is Uganda with approximately over 2000 correspondents. "
      ],
      "metadata": {
        "id": "VWrYg8bOod8h"
      }
    },
    {
      "cell_type": "code",
      "source": [
        "#Creating a Histogram\n",
        "FinAccess_df3['Respondent_Age'].hist()\n"
      ],
      "metadata": {
        "colab": {
          "base_uri": "https://localhost:8080/",
          "height": 0
        },
        "id": "VRqk5oMEaP1n",
        "outputId": "33648485-bab0-447c-a824-2787ea26c003"
      },
      "execution_count": 36,
      "outputs": [
        {
          "output_type": "execute_result",
          "data": {
            "text/plain": [
              "<matplotlib.axes._subplots.AxesSubplot at 0x7f23756d5950>"
            ]
          },
          "metadata": {},
          "execution_count": 36
        },
        {
          "output_type": "display_data",
          "data": {
            "text/plain": [
              "<Figure size 432x288 with 1 Axes>"
            ],
            "image/png": "[encoded data removed]"
          },
          "metadata": {
            "needs_background": "light"
          }
        }
      ]
    },
    {
      "cell_type": "code",
      "source": [
        "# Creating our frequency table of bank account ownership\n",
        "#\n",
        "\n",
        "FinAccess_df3.Has_a_Bank_account.value_counts()"
      ],
      "metadata": {
        "colab": {
          "base_uri": "https://localhost:8080/"
        },
        "id": "HZE8aWThbD1r",
        "outputId": "79839a19-0eea-4b2c-f243-546b399dc503"
      },
      "execution_count": 37,
      "outputs": [
        {
          "output_type": "execute_result",
          "data": {
            "text/plain": [
              "No     20046\n",
              "Yes     3297\n",
              "Name: Has_a_Bank_account, dtype: int64"
            ]
          },
          "metadata": {},
          "execution_count": 37
        }
      ]
    },
    {
      "cell_type": "markdown",
      "source": [
        "A total of 3297 individuals have bank accounts whereas 20,046 don't across the regon."
      ],
      "metadata": {
        "id": "nZoblRvAcykF"
      }
    },
    {
      "cell_type": "code",
      "source": [
        "# Visualisation of bank account ownership distribution in the region using a pie chart\n",
        "#\n",
        "\n",
        "Bank_AC = FinAccess_df3.Has_a_Bank_account.value_counts()\n",
        "labels = 'No', 'Yes'\n",
        "colors = ['red', 'yellowgreen']\n",
        "explode = (0.1, 0) \n",
        "\n",
        "plt.pie(Bank_AC, explode=explode, labels=labels, colors=colors,\n",
        "autopct='%1.1f%%', shadow=True, startangle=140)\n",
        "\n",
        "plt.axis('equal')\n",
        "plt.title('Pie Chart of Bank Ownership')\n",
        "plt.show()"
      ],
      "metadata": {
        "colab": {
          "base_uri": "https://localhost:8080/",
          "height": 0
        },
        "id": "1Cq3vy-idNL-",
        "outputId": "1abf83a0-8380-4404-b9da-aa87314f4346"
      },
      "execution_count": 38,
      "outputs": [
        {
          "output_type": "display_data",
          "data": {
            "text/plain": [
              "<Figure size 432x288 with 1 Axes>"
            ],
            "image/png": "[encoded data removed]"
          },
          "metadata": {}
        }
      ]
    },
    {
      "cell_type": "markdown",
      "source": [
        "As shown above, a significant number (85.9%) of adults do not have a bank account and hence, remail excluded in the financial systems. "
      ],
      "metadata": {
        "id": "TJfbjw6FjC67"
      }
    },
    {
      "cell_type": "code",
      "source": [
        "# Visualise Cell Phone Ownership\n",
        "#\n",
        "Cell_Phone = FinAccess_df3.Cell_Phone_Access.value_counts()\n",
        "labels = 'No', 'Yes'\n",
        "colors = ['yellow', 'green']\n",
        "explode = (0.1, 0) \n",
        "\n",
        "plt.pie(Cell_Phone, explode=explode, labels=labels, colors=colors,\n",
        "autopct='%1.1f%%', shadow=True, startangle=140)\n",
        "\n",
        "plt.axis('equal')\n",
        "plt.title('Pie Chart of Cell Phone Owenership')\n",
        "plt.show()"
      ],
      "metadata": {
        "colab": {
          "base_uri": "https://localhost:8080/",
          "height": 0
        },
        "id": "dn7p5qnNkM1n",
        "outputId": "2746703b-3042-4eca-ad21-0db1f78febe4"
      },
      "execution_count": 39,
      "outputs": [
        {
          "output_type": "display_data",
          "data": {
            "text/plain": [
              "<Figure size 432x288 with 1 Axes>"
            ],
            "image/png": "[encoded data removed]"
          },
          "metadata": {}
        }
      ]
    },
    {
      "cell_type": "markdown",
      "source": [
        "Majority (74.3%) of adult population do not own a cell phone, hence low connectivity."
      ],
      "metadata": {
        "id": "_TLBvRFQlGbn"
      }
    },
    {
      "cell_type": "code",
      "source": [
        "# Visualise gender distribution of the respondents \n",
        "#\n",
        "gender = FinAccess_df3.gender_of_respondent.value_counts()\n",
        "labels = 'Male', 'Female'\n",
        "colors = ['Brown', 'Pink']\n",
        "explode = (0.1, 0) \n",
        "\n",
        "plt.pie(gender, explode=explode, labels=labels, colors=colors,\n",
        "autopct='%1.1f%%', shadow=True, startangle=140)\n",
        "\n",
        "plt.axis('equal')\n",
        "plt.title('Pie Chart of Gender Distribution of Respondents')\n",
        "plt.show()"
      ],
      "metadata": {
        "colab": {
          "base_uri": "https://localhost:8080/",
          "height": 0
        },
        "id": "Uowf7VsB9Rsc",
        "outputId": "7c3b50aa-9226-4c57-dd40-818116fe5acf"
      },
      "execution_count": 40,
      "outputs": [
        {
          "output_type": "display_data",
          "data": {
            "text/plain": [
              "<Figure size 432x288 with 1 Axes>"
            ],
            "image/png": "[encoded data removed]"
          },
          "metadata": {}
        }
      ]
    },
    {
      "cell_type": "markdown",
      "source": [
        "59% of respondents are male while 41% are female."
      ],
      "metadata": {
        "id": "t9dxJfxB-LId"
      }
    },
    {
      "cell_type": "code",
      "source": [
        "# Explore Education Levels of respondents and visualise using bar graph\n",
        "#\n",
        "FinAccess_df3.Level_of_Educuation.value_counts().plot.bar()\n",
        "plt.xlabel('Levels of Education')\n",
        "plt.ylabel('No. of Rrespondents')\n",
        "plt.title('Education Level Distribution')\n",
        "plt.show()"
      ],
      "metadata": {
        "colab": {
          "base_uri": "https://localhost:8080/",
          "height": 0
        },
        "id": "zYQg9VZspVJR",
        "outputId": "8eddd07b-188b-4cdf-bb20-0d6a91de541a"
      },
      "execution_count": 41,
      "outputs": [
        {
          "output_type": "display_data",
          "data": {
            "text/plain": [
              "<Figure size 432x288 with 1 Axes>"
            ],
            "image/png": "[encoded data removed]"
          },
          "metadata": {
            "needs_background": "light"
          }
        }
      ]
    },
    {
      "cell_type": "markdown",
      "source": [
        "Majority of the correspondents have primary education as their highest level of education."
      ],
      "metadata": {
        "id": "-BT3skropy_c"
      }
    },
    {
      "cell_type": "code",
      "source": [
        "# Explore Employment status of respondents and visualise using bar graph\n",
        "#\n",
        "FinAccess_df3.Type_of_Job.value_counts().plot.bar()\n",
        "plt.xlabel('Job Type')\n",
        "plt.ylabel('No. of Respondents')\n",
        "plt.title('Employment Status Distribution')\n",
        "plt.show()"
      ],
      "metadata": {
        "colab": {
          "base_uri": "https://localhost:8080/",
          "height": 0
        },
        "id": "h1UHt7F5qOeQ",
        "outputId": "54349910-cd3a-468a-a799-703d0ecd148c"
      },
      "execution_count": 42,
      "outputs": [
        {
          "output_type": "display_data",
          "data": {
            "text/plain": [
              "<Figure size 432x288 with 1 Axes>"
            ],
            "image/png": "[encoded data removed]"
          },
          "metadata": {
            "needs_background": "light"
          }
        }
      ]
    },
    {
      "cell_type": "markdown",
      "source": [
        "Majority are either self-employed, in informal employment or in farming & fishing industry"
      ],
      "metadata": {
        "id": "KKYDNCrHrFIj"
      }
    },
    {
      "cell_type": "markdown",
      "source": [
        "### 6.2 Bivariate Analysis"
      ],
      "metadata": {
        "id": "ElEFiFC50AD-"
      }
    },
    {
      "cell_type": "code",
      "source": [
        "# Ploting the bivariate summaries and recording our observations\n",
        "sns.pairplot(FinAccess_df3)\n",
        "plt.show()"
      ],
      "metadata": {
        "colab": {
          "base_uri": "https://localhost:8080/",
          "height": 0
        },
        "id": "1luahihcWuRL",
        "outputId": "6f3d0368-cc9e-48db-c7eb-95efcd7aa515"
      },
      "execution_count": 43,
      "outputs": [
        {
          "output_type": "display_data",
          "data": {
            "text/plain": [
              "<Figure size 360x360 with 6 Axes>"
            ],
            "image/png": "[encoded data removed]"
          },
          "metadata": {
            "needs_background": "light"
          }
        }
      ]
    },
    {
      "cell_type": "code",
      "source": [
        "# HeatMap\n",
        "sns.heatmap(FinAccess_df3.corr(),annot=True)\n",
        "plt.show()"
      ],
      "metadata": {
        "colab": {
          "base_uri": "https://localhost:8080/",
          "height": 0
        },
        "id": "Hg3fGEhz4Q5O",
        "outputId": "5f589abd-4eb7-4d3c-cc78-b5cb4c3c9645"
      },
      "execution_count": 44,
      "outputs": [
        {
          "output_type": "display_data",
          "data": {
            "text/plain": [
              "<Figure size 432x288 with 2 Axes>"
            ],
            "image/png": "[encoded data removed]"
          },
          "metadata": {
            "needs_background": "light"
          }
        }
      ]
    },
    {
      "cell_type": "code",
      "source": [
        "# Computing the Pearson correlation coefficient\n",
        "#\n",
        "P_coeff = FinAccess_df3['Respondent_Age'].corr(FinAccess_df3['household_size'], method = 'pearson')\n",
        "print(P_coeff)"
      ],
      "metadata": {
        "colab": {
          "base_uri": "https://localhost:8080/"
        },
        "id": "CzmgT5Lt46pD",
        "outputId": "02b0df8f-e18e-48d9-8c5f-d1f9a7f5d76f"
      },
      "execution_count": 45,
      "outputs": [
        {
          "output_type": "stream",
          "name": "stdout",
          "text": [
            "-0.12113150685579056\n"
          ]
        }
      ]
    },
    {
      "cell_type": "markdown",
      "source": [
        "A negative correlation between repondent age and household size. Meaning, an increase in age leads to decrease in household size."
      ],
      "metadata": {
        "id": "xdTRsZsj79P0"
      }
    },
    {
      "cell_type": "code",
      "source": [
        "#Visualisation to find out Bank account ownership by country\n",
        "#\n",
        "Country = FinAccess_df3.groupby (['country','Has_a_Bank_account'])['Has_a_Bank_account'].count()\n",
        "Country.plot.bar( color='green')\n",
        "plt.ylabel('No. of bank accounts')\n",
        "plt.title('Bank account ownership by country')"
      ],
      "metadata": {
        "colab": {
          "base_uri": "https://localhost:8080/",
          "height": 0
        },
        "id": "wCLV1BSJ-TyZ",
        "outputId": "74f837d3-5426-4bf6-db12-91c7eb2d3a1f"
      },
      "execution_count": 46,
      "outputs": [
        {
          "output_type": "execute_result",
          "data": {
            "text/plain": [
              "Text(0.5, 1.0, 'Bank account ownership by country')"
            ]
          },
          "metadata": {},
          "execution_count": 46
        },
        {
          "output_type": "display_data",
          "data": {
            "text/plain": [
              "<Figure size 432x288 with 1 Axes>"
            ],
            "image/png": "[encoded data removed]"
          },
          "metadata": {
            "needs_background": "light"
          }
        }
      ]
    },
    {
      "cell_type": "markdown",
      "source": [
        "Kenya had the highest number of those with bank accounts compared to the other countries. Rwanda had the highest without bank accounts compared to other states. "
      ],
      "metadata": {
        "id": "jyTzAzkXJMy5"
      }
    },
    {
      "cell_type": "code",
      "source": [
        "#Visualisation to find out Bank account ownership by gender\n",
        "#\n",
        "Gender = FinAccess_df3.groupby (['gender_of_respondent','Has_a_Bank_account'])['Has_a_Bank_account'].count()\n",
        "Gender.plot.bar( color='blue')\n",
        "plt.ylabel('No. of bank accounts')\n",
        "plt.title('Bank account ownership by gender')"
      ],
      "metadata": {
        "colab": {
          "base_uri": "https://localhost:8080/",
          "height": 0
        },
        "id": "qME_Phb0_Ieo",
        "outputId": "5840a78d-d73a-445c-d983-b59a0c24b459"
      },
      "execution_count": 47,
      "outputs": [
        {
          "output_type": "execute_result",
          "data": {
            "text/plain": [
              "Text(0.5, 1.0, 'Bank account ownership by gender')"
            ]
          },
          "metadata": {},
          "execution_count": 47
        },
        {
          "output_type": "display_data",
          "data": {
            "text/plain": [
              "<Figure size 432x288 with 1 Axes>"
            ],
            "image/png": "[encoded data removed]"
          },
          "metadata": {
            "needs_background": "light"
          }
        }
      ]
    },
    {
      "cell_type": "markdown",
      "source": [
        "Most females to not have bank accounts compared to their male counterparts. "
      ],
      "metadata": {
        "id": "NxdATS8fJvwk"
      }
    },
    {
      "cell_type": "code",
      "source": [
        "#Visualisation to find out Bank account ownership by marital status\n",
        "#\n",
        "marital_st = FinAccess_df3.groupby (['marital_status','Has_a_Bank_account'])['Has_a_Bank_account'].count()\n",
        "marital_st.plot.bar( color='indigo')\n",
        "plt.ylabel('No. of bank accounts')\n",
        "plt.title('Bank account ownership by Marital Status')\n"
      ],
      "metadata": {
        "colab": {
          "base_uri": "https://localhost:8080/",
          "height": 0
        },
        "id": "_CLu8-Wo_WRh",
        "outputId": "bcf749ed-c7dc-4eb0-ac4c-ecdcdd388cbe"
      },
      "execution_count": 48,
      "outputs": [
        {
          "output_type": "execute_result",
          "data": {
            "text/plain": [
              "Text(0.5, 1.0, 'Bank account ownership by Marital Status')"
            ]
          },
          "metadata": {},
          "execution_count": 48
        },
        {
          "output_type": "display_data",
          "data": {
            "text/plain": [
              "<Figure size 432x288 with 1 Axes>"
            ],
            "image/png": "[encoded data removed]"
          },
          "metadata": {
            "needs_background": "light"
          }
        }
      ]
    },
    {
      "cell_type": "markdown",
      "source": [
        "Most married/living together do not have bank accounts followed by single who never married. "
      ],
      "metadata": {
        "id": "ZL7J5M65J-HJ"
      }
    },
    {
      "cell_type": "code",
      "source": [
        "#Visualisation to find out Bank account ownership by level of education\n",
        "#\n",
        "Education = FinAccess_df3.groupby (['Level_of_Educuation','Has_a_Bank_account'])['Has_a_Bank_account'].count()\n",
        "Education.plot.bar( color='Yellow')\n",
        "plt.ylabel('No. of bank accounts')\n",
        "plt.title('Bank account ownership by level of education')"
      ],
      "metadata": {
        "colab": {
          "base_uri": "https://localhost:8080/",
          "height": 0
        },
        "id": "rADsuh32_Z1W",
        "outputId": "776ab79b-bae7-4bed-c169-0f753e7e62b3"
      },
      "execution_count": 49,
      "outputs": [
        {
          "output_type": "execute_result",
          "data": {
            "text/plain": [
              "Text(0.5, 1.0, 'Bank account ownership by level of education')"
            ]
          },
          "metadata": {},
          "execution_count": 49
        },
        {
          "output_type": "display_data",
          "data": {
            "text/plain": [
              "<Figure size 432x288 with 1 Axes>"
            ],
            "image/png": "[encoded data removed]"
          },
          "metadata": {
            "needs_background": "light"
          }
        }
      ]
    },
    {
      "cell_type": "markdown",
      "source": [
        "Majority of those without bank accounts have at leasta a primary eduaction."
      ],
      "metadata": {
        "id": "O6i7OdbIIzWZ"
      }
    },
    {
      "cell_type": "code",
      "source": [
        "#Visualisation to find out Bank account ownership by employment status\n",
        "Employment = FinAccess_df3.groupby (['Type_of_Job','Has_a_Bank_account'])['Has_a_Bank_account'].count()\n",
        "Employment.plot.bar( color='maroon')\n",
        "plt.ylabel('No. of bank accounts')\n",
        "plt.title('Bank account ownership by Employment Status')"
      ],
      "metadata": {
        "colab": {
          "base_uri": "https://localhost:8080/",
          "height": 0
        },
        "id": "cBWXSNY4_dJt",
        "outputId": "9746462e-9b2f-49d7-a2ff-a56251cf0c28"
      },
      "execution_count": 50,
      "outputs": [
        {
          "output_type": "execute_result",
          "data": {
            "text/plain": [
              "Text(0.5, 1.0, 'Bank account ownership by Employment Status')"
            ]
          },
          "metadata": {},
          "execution_count": 50
        },
        {
          "output_type": "display_data",
          "data": {
            "text/plain": [
              "<Figure size 432x288 with 1 Axes>"
            ],
            "image/png": "[encoded data removed]"
          },
          "metadata": {
            "needs_background": "light"
          }
        }
      ]
    },
    {
      "cell_type": "markdown",
      "source": [
        "Those who are formally employed are more likely to have bank accounts. majority of respondents without bank accounts are either self employed, in informal sector or farming or in fishing/farming."
      ],
      "metadata": {
        "id": "lJ7R6iu0IVTV"
      }
    },
    {
      "cell_type": "code",
      "source": [
        "#Visualisation to find out Bank account ownership by location\n",
        "#\n",
        "Location = FinAccess_df3.groupby (['Type_of_Location','Has_a_Bank_account'])['Has_a_Bank_account'].count()\n",
        "Location.plot.bar( color='Purple')\n",
        "plt.ylabel('No. of bank accounts')\n",
        "plt.title('Bank account ownership by Location')"
      ],
      "metadata": {
        "colab": {
          "base_uri": "https://localhost:8080/",
          "height": 0
        },
        "id": "3bzgNvRa_g1n",
        "outputId": "0bbbed4d-9434-4454-efee-9839afcb3c57"
      },
      "execution_count": 51,
      "outputs": [
        {
          "output_type": "execute_result",
          "data": {
            "text/plain": [
              "Text(0.5, 1.0, 'Bank account ownership by Location')"
            ]
          },
          "metadata": {},
          "execution_count": 51
        },
        {
          "output_type": "display_data",
          "data": {
            "text/plain": [
              "<Figure size 432x288 with 1 Axes>"
            ],
            "image/png": "[encoded data removed]"
          },
          "metadata": {
            "needs_background": "light"
          }
        }
      ]
    },
    {
      "cell_type": "markdown",
      "source": [
        "Those who live in rural are not likely to have bank accounts. "
      ],
      "metadata": {
        "id": "FVWFA7YXINYi"
      }
    },
    {
      "cell_type": "markdown",
      "source": [
        "## 7.0 Implementing the Solution"
      ],
      "metadata": {
        "id": "yLs3oIPrGxx9"
      }
    },
    {
      "cell_type": "markdown",
      "source": [
        "### 7.1 Multivariate Analysis\n",
        "\n",
        "Let's apply Linear Discriminant Analysis (LDA) on our dataset"
      ],
      "metadata": {
        "id": "-OUlbItO7j9G"
      }
    },
    {
      "cell_type": "code",
      "source": [
        "# Loading the Dataset\n",
        "FinAccess_df3.head()\n"
      ],
      "metadata": {
        "colab": {
          "base_uri": "https://localhost:8080/",
          "height": 374
        },
        "id": "U-7F6hoHKPx7",
        "outputId": "ebe4d408-794b-4834-9558-7f9fea26afa0"
      },
      "execution_count": 52,
      "outputs": [
        {
          "output_type": "execute_result",
          "data": {
            "text/plain": [
              "  country Has_a_Bank_account Type_of_Location Cell_Phone_Access  \\\n",
              "0   Kenya                Yes            Rural               Yes   \n",
              "1   Kenya                 No            Rural                No   \n",
              "2   Kenya                Yes            Urban               Yes   \n",
              "3   Kenya                 No            Rural               Yes   \n",
              "4   Kenya                 No            Urban                No   \n",
              "\n",
              "   household_size  Respondent_Age gender_of_respondent The_relathip_with_head  \\\n",
              "0             3.0            24.0               Female                 Spouse   \n",
              "1             5.0            70.0               Female      Head of Household   \n",
              "2             5.0            26.0                 Male         Other relative   \n",
              "3             5.0            34.0               Female      Head of Household   \n",
              "4             8.0            26.0                 Male                  Child   \n",
              "\n",
              "            marital_status              Level_of_Educuation  \\\n",
              "0  Married/Living together              Secondary education   \n",
              "1                  Widowed              No formal education   \n",
              "2     Single/Never Married  Vocational/Specialised training   \n",
              "3  Married/Living together                Primary education   \n",
              "4     Single/Never Married                Primary education   \n",
              "\n",
              "                 Type_of_Job  \n",
              "0              Self employed  \n",
              "1       Government Dependent  \n",
              "2              Self employed  \n",
              "3  Formally employed Private  \n",
              "4        Informally employed  "
            ],
            "text/html": [
              "\n",
              "  <div id=\"df-f55546ae-3a06-4c7f-ac19-237506fc8479\">\n",
              "    <div class=\"colab-df-container\">\n",
              "      <div>\n",
              "<style scoped>\n",
              "    .dataframe tbody tr th:only-of-type {\n",
              "        vertical-align: middle;\n",
              "    }\n",
              "\n",
              "    .dataframe tbody tr th {\n",
              "        vertical-align: top;\n",
              "    }\n",
              "\n",
              "    .dataframe thead th {\n",
              "        text-align: right;\n",
              "    }\n",
              "</style>\n",
              "<table border=\"1\" class=\"dataframe\">\n",
              "  <thead>\n",
              "    <tr style=\"text-align: right;\">\n",
              "      <th></th>\n",
              "      <th>country</th>\n",
              "      <th>Has_a_Bank_account</th>\n",
              "      <th>Type_of_Location</th>\n",
              "      <th>Cell_Phone_Access</th>\n",
              "      <th>household_size</th>\n",
              "      <th>Respondent_Age</th>\n",
              "      <th>gender_of_respondent</th>\n",
              "      <th>The_relathip_with_head</th>\n",
              "      <th>marital_status</th>\n",
              "      <th>Level_of_Educuation</th>\n",
              "      <th>Type_of_Job</th>\n",
              "    </tr>\n",
              "  </thead>\n",
              "  <tbody>\n",
              "    <tr>\n",
              "      <th>0</th>\n",
              "      <td>Kenya</td>\n",
              "      <td>Yes</td>\n",
              "      <td>Rural</td>\n",
              "      <td>Yes</td>\n",
              "      <td>3.0</td>\n",
              "      <td>24.0</td>\n",
              "      <td>Female</td>\n",
              "      <td>Spouse</td>\n",
              "      <td>Married/Living together</td>\n",
              "      <td>Secondary education</td>\n",
              "      <td>Self employed</td>\n",
              "    </tr>\n",
              "    <tr>\n",
              "      <th>1</th>\n",
              "      <td>Kenya</td>\n",
              "      <td>No</td>\n",
              "      <td>Rural</td>\n",
              "      <td>No</td>\n",
              "      <td>5.0</td>\n",
              "      <td>70.0</td>\n",
              "      <td>Female</td>\n",
              "      <td>Head of Household</td>\n",
              "      <td>Widowed</td>\n",
              "      <td>No formal education</td>\n",
              "      <td>Government Dependent</td>\n",
              "    </tr>\n",
              "    <tr>\n",
              "      <th>2</th>\n",
              "      <td>Kenya</td>\n",
              "      <td>Yes</td>\n",
              "      <td>Urban</td>\n",
              "      <td>Yes</td>\n",
              "      <td>5.0</td>\n",
              "      <td>26.0</td>\n",
              "      <td>Male</td>\n",
              "      <td>Other relative</td>\n",
              "      <td>Single/Never Married</td>\n",
              "      <td>Vocational/Specialised training</td>\n",
              "      <td>Self employed</td>\n",
              "    </tr>\n",
              "    <tr>\n",
              "      <th>3</th>\n",
              "      <td>Kenya</td>\n",
              "      <td>No</td>\n",
              "      <td>Rural</td>\n",
              "      <td>Yes</td>\n",
              "      <td>5.0</td>\n",
              "      <td>34.0</td>\n",
              "      <td>Female</td>\n",
              "      <td>Head of Household</td>\n",
              "      <td>Married/Living together</td>\n",
              "      <td>Primary education</td>\n",
              "      <td>Formally employed Private</td>\n",
              "    </tr>\n",
              "    <tr>\n",
              "      <th>4</th>\n",
              "      <td>Kenya</td>\n",
              "      <td>No</td>\n",
              "      <td>Urban</td>\n",
              "      <td>No</td>\n",
              "      <td>8.0</td>\n",
              "      <td>26.0</td>\n",
              "      <td>Male</td>\n",
              "      <td>Child</td>\n",
              "      <td>Single/Never Married</td>\n",
              "      <td>Primary education</td>\n",
              "      <td>Informally employed</td>\n",
              "    </tr>\n",
              "  </tbody>\n",
              "</table>\n",
              "</div>\n",
              "      <button class=\"colab-df-convert\" onclick=\"convertToInteractive('df-f55546ae-3a06-4c7f-ac19-237506fc8479')\"\n",
              "              title=\"Convert this dataframe to an interactive table.\"\n",
              "              style=\"display:none;\">\n",
              "        \n",
              "  <svg xmlns=\"http://www.w3.org/2000/svg\" height=\"24px\"viewBox=\"0 0 24 24\"\n",
              "       width=\"24px\">\n",
              "    <path d=\"M0 0h24v24H0V0z\" fill=\"none\"/>\n",
              "    <path d=\"M18.56 5.44l.94 2.06.94-2.06 2.06-.94-2.06-.94-.94-2.06-.94 2.06-2.06.94zm-11 1L8.5 8.5l.94-2.06 2.06-.94-2.06-.94L8.5 2.5l-.94 2.06-2.06.94zm10 10l.94 2.06.94-2.06 2.06-.94-2.06-.94-.94-2.06-.94 2.06-2.06.94z\"/><path d=\"M17.41 7.96l-1.37-1.37c-.4-.4-.92-.59-1.43-.59-.52 0-1.04.2-1.43.59L10.3 9.45l-7.72 7.72c-.78.78-.78 2.05 0 2.83L4 21.41c.39.39.9.59 1.41.59.51 0 1.02-.2 1.41-.59l7.78-7.78 2.81-2.81c.8-.78.8-2.07 0-2.86zM5.41 20L4 18.59l7.72-7.72 1.47 1.35L5.41 20z\"/>\n",
              "  </svg>\n",
              "      </button>\n",
              "      \n",
              "  <style>\n",
              "    .colab-df-container {\n",
              "      display:flex;\n",
              "      flex-wrap:wrap;\n",
              "      gap: 12px;\n",
              "    }\n",
              "\n",
              "    .colab-df-convert {\n",
              "      background-color: #E8F0FE;\n",
              "      border: none;\n",
              "      border-radius: 50%;\n",
              "      cursor: pointer;\n",
              "      display: none;\n",
              "      fill: #1967D2;\n",
              "      height: 32px;\n",
              "      padding: 0 0 0 0;\n",
              "      width: 32px;\n",
              "    }\n",
              "\n",
              "    .colab-df-convert:hover {\n",
              "      background-color: #E2EBFA;\n",
              "      box-shadow: 0px 1px 2px rgba(60, 64, 67, 0.3), 0px 1px 3px 1px rgba(60, 64, 67, 0.15);\n",
              "      fill: #174EA6;\n",
              "    }\n",
              "\n",
              "    [theme=dark] .colab-df-convert {\n",
              "      background-color: #3B4455;\n",
              "      fill: #D2E3FC;\n",
              "    }\n",
              "\n",
              "    [theme=dark] .colab-df-convert:hover {\n",
              "      background-color: #434B5C;\n",
              "      box-shadow: 0px 1px 3px 1px rgba(0, 0, 0, 0.15);\n",
              "      filter: drop-shadow(0px 1px 2px rgba(0, 0, 0, 0.3));\n",
              "      fill: #FFFFFF;\n",
              "    }\n",
              "  </style>\n",
              "\n",
              "      <script>\n",
              "        const buttonEl =\n",
              "          document.querySelector('#df-f55546ae-3a06-4c7f-ac19-237506fc8479 button.colab-df-convert');\n",
              "        buttonEl.style.display =\n",
              "          google.colab.kernel.accessAllowed ? 'block' : 'none';\n",
              "\n",
              "        async function convertToInteractive(key) {\n",
              "          const element = document.querySelector('#df-f55546ae-3a06-4c7f-ac19-237506fc8479');\n",
              "          const dataTable =\n",
              "            await google.colab.kernel.invokeFunction('convertToInteractive',\n",
              "                                                     [key], {});\n",
              "          if (!dataTable) return;\n",
              "\n",
              "          const docLinkHtml = 'Like what you see? Visit the ' +\n",
              "            '<a target=\"_blank\" href=https://colab.research.google.com/notebooks/data_table.ipynb>data table notebook</a>'\n",
              "            + ' to learn more about interactive tables.';\n",
              "          element.innerHTML = '';\n",
              "          dataTable['output_type'] = 'display_data';\n",
              "          await google.colab.output.renderOutput(dataTable, element);\n",
              "          const docLink = document.createElement('div');\n",
              "          docLink.innerHTML = docLinkHtml;\n",
              "          element.appendChild(docLink);\n",
              "        }\n",
              "      </script>\n",
              "    </div>\n",
              "  </div>\n",
              "  "
            ]
          },
          "metadata": {},
          "execution_count": 52
        }
      ]
    },
    {
      "cell_type": "code",
      "source": [
        "# Dataset information\n",
        "X = FinAccess_df3.iloc[:, 5:6].values\n",
        "y = FinAccess_df3.iloc[:, 1].values"
      ],
      "metadata": {
        "id": "pzxxDO9yT-yw"
      },
      "execution_count": 53,
      "outputs": []
    },
    {
      "cell_type": "code",
      "source": [
        "# divide data into training and test sets\n",
        "from sklearn.model_selection import train_test_split\n",
        "X_train, X_test, y_train, y_test = train_test_split(X, y, test_size=0.2, random_state=0)"
      ],
      "metadata": {
        "id": "4blYBaIALa2M"
      },
      "execution_count": 54,
      "outputs": []
    },
    {
      "cell_type": "code",
      "source": [
        "# Normalization/Feature scaling\n",
        "from sklearn.preprocessing import StandardScaler\n",
        "sc = StandardScaler()\n",
        "X_train = sc.fit_transform(X_train)\n",
        "X_test = sc.transform(X_test)"
      ],
      "metadata": {
        "id": "s1MYj3YKLkrk"
      },
      "execution_count": 55,
      "outputs": []
    },
    {
      "cell_type": "code",
      "source": [
        "for i,x in enumerate(X_train):\n",
        "  X_train[i]=x.astype('int')"
      ],
      "metadata": {
        "id": "vxGBZQ4ifWBz"
      },
      "execution_count": 56,
      "outputs": []
    },
    {
      "cell_type": "code",
      "source": [
        "# Peforming LDA with Scikit-Learn.\n",
        "from sklearn.discriminant_analysis import LinearDiscriminantAnalysis as LDA\n",
        "lda = LDA(n_components=1)\n",
        "X_train = lda.fit_transform(X_train, y_train)\n",
        "X_test = lda.transform(X_test)"
      ],
      "metadata": {
        "id": "eKFcs4J5LqmE"
      },
      "execution_count": 57,
      "outputs": []
    },
    {
      "cell_type": "code",
      "source": [
        "# Training and Making Predictions\n",
        "from sklearn.ensemble import RandomForestClassifier\n",
        "\n",
        "classifier = RandomForestClassifier(max_depth=2, random_state=0)\n",
        "classifier.fit(X_train, y_train)\n",
        "y_pred = classifier.predict(X_test)"
      ],
      "metadata": {
        "id": "qhoZssz9L0C2"
      },
      "execution_count": 58,
      "outputs": []
    },
    {
      "cell_type": "code",
      "source": [
        "# Evaluating the Performance\n",
        "from sklearn.metrics import confusion_matrix\n",
        "from sklearn.metrics import accuracy_score\n",
        "\n",
        "cm = confusion_matrix(y_test, y_pred)\n",
        "print(cm)\n",
        "print('Accuracy' + str(accuracy_score(y_test, y_pred)))"
      ],
      "metadata": {
        "colab": {
          "base_uri": "https://localhost:8080/"
        },
        "id": "Wufw0zETMA8a",
        "outputId": "5ed43659-f945-42f3-cebd-50d961dcc485"
      },
      "execution_count": 59,
      "outputs": [
        {
          "output_type": "stream",
          "name": "stdout",
          "text": [
            "[[4008    0]\n",
            " [ 661    0]]\n",
            "Accuracy0.8584279288926965\n"
          ]
        }
      ]
    },
    {
      "cell_type": "markdown",
      "source": [
        "A 85.8% of accuracy can be used to predict individuals most likely to have or use a bank account. It is therefore recommendable to make prediction based on our finding. "
      ],
      "metadata": {
        "id": "GxvJUV17iwx5"
      }
    },
    {
      "cell_type": "markdown",
      "source": [
        "## 8.0 Challenging the solution"
      ],
      "metadata": {
        "id": "TamzFj9-G188"
      }
    },
    {
      "cell_type": "markdown",
      "source": [
        "> Challenging our solution using Factor Analysis"
      ],
      "metadata": {
        "id": "sU4AN0JYk1ft"
      }
    },
    {
      "cell_type": "code",
      "source": [
        "#Checking datatypes\n",
        "FinAccess_df3.info()"
      ],
      "metadata": {
        "colab": {
          "base_uri": "https://localhost:8080/"
        },
        "id": "KwDa9S4rlgp6",
        "outputId": "3dc61cd3-d60a-4091-b91c-41f3e8efe3bb"
      },
      "execution_count": 60,
      "outputs": [
        {
          "output_type": "stream",
          "name": "stdout",
          "text": [
            "<class 'pandas.core.frame.DataFrame'>\n",
            "Int64Index: 23343 entries, 0 to 23523\n",
            "Data columns (total 11 columns):\n",
            " #   Column                  Non-Null Count  Dtype  \n",
            "---  ------                  --------------  -----  \n",
            " 0   country                 23343 non-null  object \n",
            " 1   Has_a_Bank_account      23343 non-null  object \n",
            " 2   Type_of_Location        23343 non-null  object \n",
            " 3   Cell_Phone_Access       23343 non-null  object \n",
            " 4   household_size          23343 non-null  float64\n",
            " 5   Respondent_Age          23343 non-null  float64\n",
            " 6   gender_of_respondent    23343 non-null  object \n",
            " 7   The_relathip_with_head  23343 non-null  object \n",
            " 8   marital_status          23343 non-null  object \n",
            " 9   Level_of_Educuation     23343 non-null  object \n",
            " 10  Type_of_Job             23343 non-null  object \n",
            "dtypes: float64(2), object(9)\n",
            "memory usage: 2.1+ MB\n"
          ]
        }
      ]
    },
    {
      "cell_type": "code",
      "source": [
        "# Step 3: Dropping unnecessary columns \n",
        "# \n",
        "FinAccess_df3.drop(['country','Has_a_Bank_account','Type_of_Location', 'Cell_Phone_Access', 'The_relathip_with_head','marital_status','Level_of_Educuation','Type_of_Job'],axis=1,inplace=True)\n",
        "FinAccess_df3.dropna(inplace=True)"
      ],
      "metadata": {
        "id": "q5Sp3ouxmC-9"
      },
      "execution_count": 61,
      "outputs": []
    },
    {
      "cell_type": "code",
      "source": [
        "# Installing factor analyzer \n",
        "!pip install factor_analyzer==0.2.3\n",
        "\n",
        "from factor_analyzer.factor_analyzer import calculate_bartlett_sphericity\n",
        "\n",
        "chi_square_value,p_value=calculate_bartlett_sphericity(FinAccess_df3)\n",
        "chi_square_value, p_value"
      ],
      "metadata": {
        "colab": {
          "base_uri": "https://localhost:8080/"
        },
        "id": "A93yTOZ-jIEc",
        "outputId": "50cb3cd6-76b4-43d5-bc49-539f1ffd8787"
      },
      "execution_count": 62,
      "outputs": [
        {
          "output_type": "stream",
          "name": "stdout",
          "text": [
            "Requirement already satisfied: factor_analyzer==0.2.3 in /usr/local/lib/python3.7/dist-packages (0.2.3)\n",
            "Requirement already satisfied: scipy in /usr/local/lib/python3.7/dist-packages (from factor_analyzer==0.2.3) (1.4.1)\n",
            "Requirement already satisfied: numpy in /usr/local/lib/python3.7/dist-packages (from factor_analyzer==0.2.3) (1.21.6)\n",
            "Requirement already satisfied: pandas in /usr/local/lib/python3.7/dist-packages (from factor_analyzer==0.2.3) (1.3.5)\n",
            "Requirement already satisfied: pytz>=2017.3 in /usr/local/lib/python3.7/dist-packages (from pandas->factor_analyzer==0.2.3) (2022.1)\n",
            "Requirement already satisfied: python-dateutil>=2.7.3 in /usr/local/lib/python3.7/dist-packages (from pandas->factor_analyzer==0.2.3) (2.8.2)\n",
            "Requirement already satisfied: six>=1.5 in /usr/local/lib/python3.7/dist-packages (from python-dateutil>=2.7.3->pandas->factor_analyzer==0.2.3) (1.15.0)\n"
          ]
        },
        {
          "output_type": "execute_result",
          "data": {
            "text/plain": [
              "(345.0039061144115, 8.977920215582295e-75)"
            ]
          },
          "metadata": {},
          "execution_count": 62
        }
      ]
    },
    {
      "cell_type": "code",
      "source": [
        "# Kaiser-Meyer-Olkin (KMO) Test measures the suitability of data for factor analysis.\n",
        "#from factor_analyzer.factor_analyzer import calculate_kmo\n",
        "\n",
        "#kmo_all,kmo_model=calculate_kmo(FinAccess_df3)"
      ],
      "metadata": {
        "id": "EgwsmpH7jH9P"
      },
      "execution_count": 64,
      "outputs": []
    },
    {
      "cell_type": "code",
      "source": [
        "#from factor_analyzer.factor_analyzer import FactorAnalyzer\n",
        "#fa = FactorAnalyzer()\n",
        "#fa.analyze(FinAccess_df3, 25, rotation=None)\n",
        "\n",
        "# Checking the Eigenvalues\n",
        "#ev, v = fa.get_eigenvalues()\n",
        "#ev"
      ],
      "metadata": {
        "id": "q37xQP9Roemf"
      },
      "execution_count": 67,
      "outputs": []
    },
    {
      "cell_type": "markdown",
      "source": [
        "## Recomendation\n",
        "Based on our finding, we recommend that there is need to use a more up to date dataset with same timelines for each country. \n"
      ],
      "metadata": {
        "id": "IUeLuj2ajTow"
      }
    },
    {
      "cell_type": "markdown",
      "source": [
        "##9.0 Follow up questions"
      ],
      "metadata": {
        "id": "8TsO5R57jDvl"
      }
    },
    {
      "cell_type": "markdown",
      "source": [
        "### 9.1 Did we have the right data?"
      ],
      "metadata": {
        "id": "bJQMK8nEjsu2"
      }
    },
    {
      "cell_type": "markdown",
      "source": [
        "No, the data provided was not sufficient to give us a wholistic view of our analysis."
      ],
      "metadata": {
        "id": "Bb2mjGpzj-UN"
      }
    },
    {
      "cell_type": "markdown",
      "source": [
        "### 9.2 Do we need other data to answer our question?"
      ],
      "metadata": {
        "id": "GKJC3dY_jrPh"
      }
    },
    {
      "cell_type": "markdown",
      "source": [
        "Yes, we need a more up to date data with integer and float values."
      ],
      "metadata": {
        "id": "vGHaIIO0j1C7"
      }
    },
    {
      "cell_type": "markdown",
      "source": [
        "### 9.3 Did we have the right data?"
      ],
      "metadata": {
        "id": "5hGQqVCpj4fu"
      }
    },
    {
      "cell_type": "markdown",
      "source": [
        "Yes, the question was precise given that it was formulated from the research problem."
      ],
      "metadata": {
        "id": "NEbWVX7xj8-_"
      }
    }
  ]
}